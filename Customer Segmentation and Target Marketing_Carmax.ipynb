{
 "cells": [
  {
   "cell_type": "markdown",
   "metadata": {},
   "source": [
    "# Customer Segmentation and Target Marketing Recommendations For CarMax\n",
    "### A Notebook By Connor O'Brien\n",
    "\n",
    "\n",
    "## Introduction\n",
    "\n",
    "In this project, we'll analyze a dataset provided by CarMax for their [2021 CarMax Analytics Showcase](https://analyticsshowcase.carmax.com/). Below is the problem statement provided in the contest that we'll look to answer.\n",
    "\n",
    "\n",
    "**Problem Statement: In today’s marketplace, customers expect and demand a personalized experience. Given historical industry sales, how can CarMax tailor its marketing and inventory strategies to draw in distinct segments of consumers?**\n",
    "\n",
    "We'll start by dissecting each variable in the dataset, which contains a 'subset of nationwide used-car purchases for 2013, with vehicle purchase information, customer demographics, and post-purchase experience'. This will allow us to better understand the data and guide the discussion into the next section where we'll look for trends in that data that could help inform CarMax's marketing and inventory strategies. We'll wrap up by creating distinct clusters of purchasers that could be used for target marketing."
   ]
  },
  {
   "cell_type": "markdown",
   "metadata": {},
   "source": [
    "## 1. Data Exploration\n",
    "\n",
    "Below are a few code cells to help set up the project."
   ]
  },
  {
   "cell_type": "code",
   "execution_count": 1,
   "metadata": {},
   "outputs": [],
   "source": [
    "# Imports\n",
    "import itertools\n",
    "import matplotlib.pyplot as plt\n",
    "import matplotlib.style as style\n",
    "import numpy as np\n",
    "import pandas as pd\n",
    "from scipy.stats import ttest_ind\n",
    "import seaborn as sns\n",
    "from sklearn.naive_bayes import GaussianNB,CategoricalNB\n",
    "from sklearn import metrics \n",
    "from sklearn.feature_selection import mutual_info_classif, RFE\n",
    "from sklearn.linear_model import LogisticRegression\n",
    "from sklearn.preprocessing import StandardScaler\n",
    "from sklearn.cluster import KMeans\n",
    "from sklearn.preprocessing import OneHotEncoder, LabelEncoder"
   ]
  },
  {
   "cell_type": "code",
   "execution_count": 2,
   "metadata": {},
   "outputs": [],
   "source": [
    "##### Functions for this notebook\n",
    "\n",
    "## Defining a function to compute the distribution of values for a single column in a dataframe.\n",
    "# This will be used throughout this notebook to analyze various variables.\n",
    "def analyze_col(df,col,full=False):\n",
    "    # Returns the name, frequency, and rate (as a decimal)\n",
    "    if full:\n",
    "        # Creates a new df with the counts of each value\n",
    "        counts = df[col].value_counts().reset_index(name='Frequency').rename(columns={'index': col})\n",
    "        counts['Rate'] = counts['Frequency']/counts['Frequency'].sum()\n",
    "        return counts\n",
    "    # Returns the name and rate (as a percentage)\n",
    "    else:\n",
    "        # Creates a new df with the rate of each value\n",
    "        df1 = df[col].value_counts()/df.insert_num.value_counts().sum()\n",
    "        # Round each value so its a percentage and return df1\n",
    "        return(df1.apply(lambda x: round(x*100,1)).reset_index())\n",
    "\n",
    "# Function that turns categorical ranges into their average (with some exception cases)\n",
    "def clean_price(s):\n",
    "    if s =='?':\n",
    "        return s\n",
    "    elif s=='200001+':\n",
    "        return '200'\n",
    "    else:\n",
    "        a,b = s.replace(' ','').split('-')\n",
    "        if a=='0':\n",
    "            return str(a)+'-'+str(b[:-3])\n",
    "        else:\n",
    "            return str(a[:-3])+'-'+str(b[:-3])    \n",
    "\n",
    "# Defining a function to replace a range of value with it's average\n",
    "def cell_avg(s):\n",
    "    if s == '101+':\n",
    "        return 101\n",
    "    elif s == '200001+':\n",
    "        return 200001\n",
    "    else:\n",
    "        a,b = s.replace(' ','').split('-')\n",
    "        return int(int(b)*.5 + int(a)*.5)\n",
    "    \n",
    "# Creating a function to perform a statistical t-test \n",
    "def t_test(a,b):\n",
    "    t, p = ttest_ind(a, b)\n",
    "    if p<0.05:\n",
    "        print('There is a statistically significant difference between the two population means.')\n",
    "    else:\n",
    "        print('There is not a statistically significant difference between the two population means.')"
   ]
  },
  {
   "cell_type": "markdown",
   "metadata": {},
   "source": [
    "Let's start by reading in the data and viewing the first 5 rows. "
   ]
  },
  {
   "cell_type": "code",
   "execution_count": 3,
   "metadata": {},
   "outputs": [
    {
     "data": {
      "text/html": [
       "<div>\n",
       "<style scoped>\n",
       "    .dataframe tbody tr th:only-of-type {\n",
       "        vertical-align: middle;\n",
       "    }\n",
       "\n",
       "    .dataframe tbody tr th {\n",
       "        vertical-align: top;\n",
       "    }\n",
       "\n",
       "    .dataframe thead th {\n",
       "        text-align: right;\n",
       "    }\n",
       "</style>\n",
       "<table border=\"1\" class=\"dataframe\">\n",
       "  <thead>\n",
       "    <tr style=\"text-align: right;\">\n",
       "      <th></th>\n",
       "      <th>insert_num</th>\n",
       "      <th>purchase_make</th>\n",
       "      <th>purchase_model</th>\n",
       "      <th>purchase_vehicle_year</th>\n",
       "      <th>purchase_price</th>\n",
       "      <th>trade_in</th>\n",
       "      <th>vehicle_financing</th>\n",
       "      <th>customer_age</th>\n",
       "      <th>customer_income</th>\n",
       "      <th>customer_gender</th>\n",
       "      <th>customer_previous_purchase</th>\n",
       "      <th>customer_distance_to_dealer</th>\n",
       "      <th>post_purchase_satisfaction</th>\n",
       "      <th>vehicle_warranty_used</th>\n",
       "      <th>subsequent_purchases</th>\n",
       "    </tr>\n",
       "  </thead>\n",
       "  <tbody>\n",
       "    <tr>\n",
       "      <th>0</th>\n",
       "      <td>81690</td>\n",
       "      <td>DODGE</td>\n",
       "      <td>CHARGER</td>\n",
       "      <td>2012</td>\n",
       "      <td>15001 - 20000</td>\n",
       "      <td>1</td>\n",
       "      <td>1</td>\n",
       "      <td>21 - 30</td>\n",
       "      <td>40001 - 60000</td>\n",
       "      <td>NaN</td>\n",
       "      <td>0</td>\n",
       "      <td>8</td>\n",
       "      <td>NaN</td>\n",
       "      <td>0</td>\n",
       "      <td>1</td>\n",
       "    </tr>\n",
       "    <tr>\n",
       "      <th>1</th>\n",
       "      <td>109994</td>\n",
       "      <td>FORD</td>\n",
       "      <td>F150</td>\n",
       "      <td>2007</td>\n",
       "      <td>15001 - 20000</td>\n",
       "      <td>0</td>\n",
       "      <td>0</td>\n",
       "      <td>51 - 60</td>\n",
       "      <td>0 - 20000</td>\n",
       "      <td>F</td>\n",
       "      <td>1</td>\n",
       "      <td>19</td>\n",
       "      <td>NaN</td>\n",
       "      <td>0</td>\n",
       "      <td>0</td>\n",
       "    </tr>\n",
       "    <tr>\n",
       "      <th>2</th>\n",
       "      <td>11399</td>\n",
       "      <td>BMW</td>\n",
       "      <td>328</td>\n",
       "      <td>2010</td>\n",
       "      <td>25001 - 30000</td>\n",
       "      <td>1</td>\n",
       "      <td>1</td>\n",
       "      <td>41 - 50</td>\n",
       "      <td>60001 - 80000</td>\n",
       "      <td>F</td>\n",
       "      <td>1</td>\n",
       "      <td>21</td>\n",
       "      <td>NaN</td>\n",
       "      <td>0</td>\n",
       "      <td>0</td>\n",
       "    </tr>\n",
       "    <tr>\n",
       "      <th>3</th>\n",
       "      <td>214156</td>\n",
       "      <td>LEXUS</td>\n",
       "      <td>GS 300</td>\n",
       "      <td>2003</td>\n",
       "      <td>10001 - 15000</td>\n",
       "      <td>0</td>\n",
       "      <td>1</td>\n",
       "      <td>21 - 30</td>\n",
       "      <td>20001 - 40000</td>\n",
       "      <td>M</td>\n",
       "      <td>0</td>\n",
       "      <td>8</td>\n",
       "      <td>NaN</td>\n",
       "      <td>0</td>\n",
       "      <td>0</td>\n",
       "    </tr>\n",
       "    <tr>\n",
       "      <th>4</th>\n",
       "      <td>36685</td>\n",
       "      <td>CHEVROLET</td>\n",
       "      <td>CRUZE</td>\n",
       "      <td>2012</td>\n",
       "      <td>15001 - 20000</td>\n",
       "      <td>1</td>\n",
       "      <td>1</td>\n",
       "      <td>31 - 40</td>\n",
       "      <td>120001 - 140000</td>\n",
       "      <td>M</td>\n",
       "      <td>1</td>\n",
       "      <td>5</td>\n",
       "      <td>NaN</td>\n",
       "      <td>1</td>\n",
       "      <td>1</td>\n",
       "    </tr>\n",
       "  </tbody>\n",
       "</table>\n",
       "</div>"
      ],
      "text/plain": [
       "   insert_num purchase_make purchase_model  purchase_vehicle_year  \\\n",
       "0       81690         DODGE        CHARGER                   2012   \n",
       "1      109994          FORD           F150                   2007   \n",
       "2       11399           BMW            328                   2010   \n",
       "3      214156         LEXUS         GS 300                   2003   \n",
       "4       36685     CHEVROLET          CRUZE                   2012   \n",
       "\n",
       "  purchase_price  trade_in  vehicle_financing customer_age  customer_income  \\\n",
       "0  15001 - 20000         1                  1      21 - 30    40001 - 60000   \n",
       "1  15001 - 20000         0                  0      51 - 60        0 - 20000   \n",
       "2  25001 - 30000         1                  1      41 - 50    60001 - 80000   \n",
       "3  10001 - 15000         0                  1      21 - 30    20001 - 40000   \n",
       "4  15001 - 20000         1                  1      31 - 40  120001 - 140000   \n",
       "\n",
       "  customer_gender  customer_previous_purchase customer_distance_to_dealer  \\\n",
       "0             NaN                           0                           8   \n",
       "1               F                           1                          19   \n",
       "2               F                           1                          21   \n",
       "3               M                           0                           8   \n",
       "4               M                           1                           5   \n",
       "\n",
       "  post_purchase_satisfaction  vehicle_warranty_used  subsequent_purchases  \n",
       "0                        NaN                      0                     1  \n",
       "1                        NaN                      0                     0  \n",
       "2                        NaN                      0                     0  \n",
       "3                        NaN                      0                     0  \n",
       "4                        NaN                      1                     1  "
      ]
     },
     "execution_count": 3,
     "metadata": {},
     "output_type": "execute_result"
    }
   ],
   "source": [
    "# Reading in the data\n",
    "data = pd.read_csv('CaseCompetitionData2021.csv')\n",
    "# Replacing ? with nan for easier manipulation\n",
    "data = data.replace('?',np.NaN)\n",
    "# Replacing the U in the gender column with nan\n",
    "data.customer_gender = data.customer_gender.replace('U',np.NaN)\n",
    "# Viewing the first 5 rows of the data\n",
    "data.head(5)"
   ]
  },
  {
   "cell_type": "markdown",
   "metadata": {},
   "source": [
    "Below is a table showing the amount of values missing for each variable (out of the 355874 rows) and the percentage of the data in that row that are missing. Of note is the 'post_purchase_satisfaction' variable that is missing 99.7% of its responses, as well as the 'customer_income' and 'customer_gender' that are missing 12.9% and 9.9% of their responses, respectively."
   ]
  },
  {
   "cell_type": "code",
   "execution_count": 4,
   "metadata": {},
   "outputs": [
    {
     "data": {
      "text/html": [
       "<div>\n",
       "<style scoped>\n",
       "    .dataframe tbody tr th:only-of-type {\n",
       "        vertical-align: middle;\n",
       "    }\n",
       "\n",
       "    .dataframe tbody tr th {\n",
       "        vertical-align: top;\n",
       "    }\n",
       "\n",
       "    .dataframe thead th {\n",
       "        text-align: right;\n",
       "    }\n",
       "</style>\n",
       "<table border=\"1\" class=\"dataframe\">\n",
       "  <thead>\n",
       "    <tr style=\"text-align: right;\">\n",
       "      <th></th>\n",
       "      <th>Missing Values</th>\n",
       "      <th>% Missing</th>\n",
       "    </tr>\n",
       "  </thead>\n",
       "  <tbody>\n",
       "    <tr>\n",
       "      <th>insert_num</th>\n",
       "      <td>0</td>\n",
       "      <td>0.000000</td>\n",
       "    </tr>\n",
       "    <tr>\n",
       "      <th>purchase_make</th>\n",
       "      <td>0</td>\n",
       "      <td>0.000000</td>\n",
       "    </tr>\n",
       "    <tr>\n",
       "      <th>purchase_model</th>\n",
       "      <td>0</td>\n",
       "      <td>0.000000</td>\n",
       "    </tr>\n",
       "    <tr>\n",
       "      <th>purchase_vehicle_year</th>\n",
       "      <td>0</td>\n",
       "      <td>0.000000</td>\n",
       "    </tr>\n",
       "    <tr>\n",
       "      <th>purchase_price</th>\n",
       "      <td>3</td>\n",
       "      <td>0.000008</td>\n",
       "    </tr>\n",
       "    <tr>\n",
       "      <th>trade_in</th>\n",
       "      <td>0</td>\n",
       "      <td>0.000000</td>\n",
       "    </tr>\n",
       "    <tr>\n",
       "      <th>vehicle_financing</th>\n",
       "      <td>0</td>\n",
       "      <td>0.000000</td>\n",
       "    </tr>\n",
       "    <tr>\n",
       "      <th>customer_age</th>\n",
       "      <td>1098</td>\n",
       "      <td>0.003085</td>\n",
       "    </tr>\n",
       "    <tr>\n",
       "      <th>customer_income</th>\n",
       "      <td>45998</td>\n",
       "      <td>0.129254</td>\n",
       "    </tr>\n",
       "    <tr>\n",
       "      <th>customer_gender</th>\n",
       "      <td>35268</td>\n",
       "      <td>0.099102</td>\n",
       "    </tr>\n",
       "    <tr>\n",
       "      <th>customer_previous_purchase</th>\n",
       "      <td>0</td>\n",
       "      <td>0.000000</td>\n",
       "    </tr>\n",
       "    <tr>\n",
       "      <th>customer_distance_to_dealer</th>\n",
       "      <td>6103</td>\n",
       "      <td>0.017149</td>\n",
       "    </tr>\n",
       "    <tr>\n",
       "      <th>post_purchase_satisfaction</th>\n",
       "      <td>354676</td>\n",
       "      <td>0.996634</td>\n",
       "    </tr>\n",
       "    <tr>\n",
       "      <th>vehicle_warranty_used</th>\n",
       "      <td>0</td>\n",
       "      <td>0.000000</td>\n",
       "    </tr>\n",
       "    <tr>\n",
       "      <th>subsequent_purchases</th>\n",
       "      <td>0</td>\n",
       "      <td>0.000000</td>\n",
       "    </tr>\n",
       "  </tbody>\n",
       "</table>\n",
       "</div>"
      ],
      "text/plain": [
       "                             Missing Values  % Missing\n",
       "insert_num                                0   0.000000\n",
       "purchase_make                             0   0.000000\n",
       "purchase_model                            0   0.000000\n",
       "purchase_vehicle_year                     0   0.000000\n",
       "purchase_price                            3   0.000008\n",
       "trade_in                                  0   0.000000\n",
       "vehicle_financing                         0   0.000000\n",
       "customer_age                           1098   0.003085\n",
       "customer_income                       45998   0.129254\n",
       "customer_gender                       35268   0.099102\n",
       "customer_previous_purchase                0   0.000000\n",
       "customer_distance_to_dealer            6103   0.017149\n",
       "post_purchase_satisfaction           354676   0.996634\n",
       "vehicle_warranty_used                     0   0.000000\n",
       "subsequent_purchases                      0   0.000000"
      ]
     },
     "execution_count": 4,
     "metadata": {},
     "output_type": "execute_result"
    }
   ],
   "source": [
    "# Creating a new df with the number of missing values and percentage of missing values for each variable\n",
    "missing_values_df = pd.concat([data.isnull().sum(),data.isnull().sum()/len(data)],axis=1) \n",
    "missing_values_df.rename(columns={0:'Missing Values',1:'% Missing'})"
   ]
  },
  {
   "cell_type": "markdown",
   "metadata": {},
   "source": [
    "Let's now look at each variable individually and see if we can gain a deeper insight into CarMax's buyers and their behavior."
   ]
  },
  {
   "cell_type": "markdown",
   "metadata": {},
   "source": [
    "#### Purchase Makes and Purchase Models"
   ]
  },
  {
   "cell_type": "markdown",
   "metadata": {},
   "source": [
    "The first two variables are the purchase makes and purchase models. \n",
    "\n",
    "There are 43 different purchase makes. The top ten manufacturers (shown below) make up 70% of all purchases."
   ]
  },
  {
   "cell_type": "code",
   "execution_count": 5,
   "metadata": {},
   "outputs": [
    {
     "data": {
      "image/png": "[encoded data removed]",
      "text/plain": [
       "<Figure size 864x432 with 1 Axes>"
      ]
     },
     "metadata": {
      "needs_background": "light"
     },
     "output_type": "display_data"
    }
   ],
   "source": [
    "# Creating a dataset with the count and rate for each purchase make \n",
    "puchase_make_data = analyze_col(data,'purchase_make',True)\n",
    "puchase_make_data = puchase_make_data.iloc[:10,:]\n",
    "\n",
    "# Supressing a warning for the plot\n",
    "import warnings\n",
    "warnings.simplefilter(action='ignore', category=FutureWarning)\n",
    "\n",
    "# Plotting the distribution of purchase makes\n",
    "plt.figure(figsize=(12,6)) # Setting the figure size\n",
    "sns.barplot(\"purchase_make\", y=\"Rate\", data=puchase_make_data, palette=\"Blues_d\")\n",
    "plt.title(\"Distribution of Purchase Makes (Top 10)\") # Setting the title\n",
    "plt.xlabel(\"Purchase Makes\") # Setting the x-label\n",
    "plt.ylabel(\"Percent of Total Purchases\"); # Setting the y-label"
   ]
  },
  {
   "cell_type": "markdown",
   "metadata": {},
   "source": [
    "Next, let's view a similar breakdown for the ten most common purchase models."
   ]
  },
  {
   "cell_type": "code",
   "execution_count": 6,
   "metadata": {},
   "outputs": [
    {
     "data": {
      "image/png": "[encoded data removed]",
      "text/plain": [
       "<Figure size 864x432 with 1 Axes>"
      ]
     },
     "metadata": {
      "needs_background": "light"
     },
     "output_type": "display_data"
    }
   ],
   "source": [
    "# Creating a dataset with the count and rate for each purchase model \n",
    "puchase_model_data = analyze_col(data,'purchase_model',True).head(10)\n",
    "puchase_model_data.iloc[:10,:] = puchase_model_data\n",
    "\n",
    "# Plotting the distribution of purchase models\n",
    "plt.figure(figsize=(12,6)) # Setting the figure size\n",
    "sns.barplot(\"purchase_model\", y=\"Rate\", data=puchase_model_data, palette=\"Blues_d\")\n",
    "plt.title(\"Distribution of Purchase Models (Top 10)\") # Setting the title\n",
    "plt.xlabel(\"Purchase Makes\") # Setting the x-label\n",
    "plt.ylabel(\"Percent of Total Purchases\"); # Setting the y-label"
   ]
  },
  {
   "cell_type": "markdown",
   "metadata": {},
   "source": [
    "To understand which cars sell best, we'll need to group them by their year, make, and model. As shown below, the 2010 Nissan Altima was the most sold car in the data set, followed by the 2012 Nissan Altima and the 2012 Chevrolet Malibu."
   ]
  },
  {
   "cell_type": "code",
   "execution_count": 7,
   "metadata": {},
   "outputs": [
    {
     "name": "stdout",
     "output_type": "stream",
     "text": [
      "10 Best Selling Cars:\n"
     ]
    },
    {
     "data": {
      "text/html": [
       "<div>\n",
       "<style scoped>\n",
       "    .dataframe tbody tr th:only-of-type {\n",
       "        vertical-align: middle;\n",
       "    }\n",
       "\n",
       "    .dataframe tbody tr th {\n",
       "        vertical-align: top;\n",
       "    }\n",
       "\n",
       "    .dataframe thead th {\n",
       "        text-align: right;\n",
       "    }\n",
       "</style>\n",
       "<table border=\"1\" class=\"dataframe\">\n",
       "  <thead>\n",
       "    <tr style=\"text-align: right;\">\n",
       "      <th></th>\n",
       "      <th>year_make_model</th>\n",
       "      <th>Frequency</th>\n",
       "      <th>Rate</th>\n",
       "    </tr>\n",
       "  </thead>\n",
       "  <tbody>\n",
       "    <tr>\n",
       "      <th>0</th>\n",
       "      <td>2010 NISSAN ALTIMA</td>\n",
       "      <td>3439</td>\n",
       "      <td>0.009664</td>\n",
       "    </tr>\n",
       "    <tr>\n",
       "      <th>1</th>\n",
       "      <td>2012 NISSAN ALTIMA</td>\n",
       "      <td>3231</td>\n",
       "      <td>0.009079</td>\n",
       "    </tr>\n",
       "    <tr>\n",
       "      <th>2</th>\n",
       "      <td>2012 CHEVROLET MALIBU</td>\n",
       "      <td>2950</td>\n",
       "      <td>0.008289</td>\n",
       "    </tr>\n",
       "    <tr>\n",
       "      <th>3</th>\n",
       "      <td>2011 TOYOTA CAMRY</td>\n",
       "      <td>2915</td>\n",
       "      <td>0.008191</td>\n",
       "    </tr>\n",
       "    <tr>\n",
       "      <th>4</th>\n",
       "      <td>2010 HONDA ACCORD</td>\n",
       "      <td>2727</td>\n",
       "      <td>0.007663</td>\n",
       "    </tr>\n",
       "    <tr>\n",
       "      <th>5</th>\n",
       "      <td>2011 HYUNDAI SONATA</td>\n",
       "      <td>2602</td>\n",
       "      <td>0.007312</td>\n",
       "    </tr>\n",
       "    <tr>\n",
       "      <th>6</th>\n",
       "      <td>2010 TOYOTA CAMRY</td>\n",
       "      <td>2387</td>\n",
       "      <td>0.006707</td>\n",
       "    </tr>\n",
       "    <tr>\n",
       "      <th>7</th>\n",
       "      <td>2012 FORD FOCUS</td>\n",
       "      <td>2228</td>\n",
       "      <td>0.006261</td>\n",
       "    </tr>\n",
       "    <tr>\n",
       "      <th>8</th>\n",
       "      <td>2010 TOYOTA COROLLA</td>\n",
       "      <td>2127</td>\n",
       "      <td>0.005977</td>\n",
       "    </tr>\n",
       "    <tr>\n",
       "      <th>9</th>\n",
       "      <td>2012 DODGE AVENGER</td>\n",
       "      <td>2110</td>\n",
       "      <td>0.005929</td>\n",
       "    </tr>\n",
       "  </tbody>\n",
       "</table>\n",
       "</div>"
      ],
      "text/plain": [
       "         year_make_model  Frequency      Rate\n",
       "0     2010 NISSAN ALTIMA       3439  0.009664\n",
       "1     2012 NISSAN ALTIMA       3231  0.009079\n",
       "2  2012 CHEVROLET MALIBU       2950  0.008289\n",
       "3      2011 TOYOTA CAMRY       2915  0.008191\n",
       "4      2010 HONDA ACCORD       2727  0.007663\n",
       "5    2011 HYUNDAI SONATA       2602  0.007312\n",
       "6      2010 TOYOTA CAMRY       2387  0.006707\n",
       "7        2012 FORD FOCUS       2228  0.006261\n",
       "8    2010 TOYOTA COROLLA       2127  0.005977\n",
       "9     2012 DODGE AVENGER       2110  0.005929"
      ]
     },
     "execution_count": 7,
     "metadata": {},
     "output_type": "execute_result"
    }
   ],
   "source": [
    "# Making a new variable with a car's year, make, and model\n",
    "year_make_model = data['purchase_vehicle_year'].astype(str) + ' ' + data['purchase_make'] + ' '+ data['purchase_model']\n",
    "year_make_model = year_make_model.to_frame(name = 'year_make_model')\n",
    "\n",
    "# Creating a dataset with the count and rate for each car \n",
    "year_make_model_data = analyze_col(year_make_model,'year_make_model',True).head(10)\n",
    "# Viewing the 10 top selling cars\n",
    "print('10 Best Selling Cars:')\n",
    "year_make_model_data.head(10)"
   ]
  },
  {
   "cell_type": "markdown",
   "metadata": {},
   "source": [
    "#### Purchase Vehicle Year\n",
    "\n",
    "97% of purchase vehicle years were between 2004 and 2013, with 54% of purchase vehicle years sitting between 2010 and 2012.\n",
    "\n",
    "The average 'model year age' at the time of purchase was 4.47 years."
   ]
  },
  {
   "cell_type": "code",
   "execution_count": 8,
   "metadata": {},
   "outputs": [
    {
     "data": {
      "image/png": "[encoded data removed]",
      "text/plain": [
       "<Figure size 864x432 with 1 Axes>"
      ]
     },
     "metadata": {
      "needs_background": "light"
     },
     "output_type": "display_data"
    }
   ],
   "source": [
    "# Function to remove the first two characters to change years from XXXX to XX format plotting\n",
    "def year_abrv(x):\n",
    "    return str(x)[2:]\n",
    "\n",
    "# Model year calculation used above\n",
    "2014 - data.purchase_vehicle_year.mean(); #4.47\n",
    "\n",
    "# Creating a dataset with the count and rate for each purchase year \n",
    "purchase_vehicle_year_data = analyze_col(data,'purchase_vehicle_year',True).sort_values(by=['purchase_vehicle_year'])\n",
    "# Creating a new variable with smaller year labels for printing (e.x. 2005 -> 05)\n",
    "purchase_vehicle_year_data['year_labels'] = purchase_vehicle_year_data['purchase_vehicle_year'].apply(year_abrv)\n",
    "\n",
    "# Plotting the distribution of purchase vehicle years\n",
    "plt.figure(figsize=(12,6)) # Setting the figure size\n",
    "sns.barplot(\"year_labels\", y=\"Rate\", data=purchase_vehicle_year_data, palette=\"Blues_d\")\n",
    "plt.title(\"Distribution of Purchase Vehicle Years\") # Setting the title\n",
    "plt.xlabel(\"Purchase Vehicle Years\") # Setting the x-label\n",
    "plt.ylabel(\"Percent of Total Purchases\"); # Setting the y-label"
   ]
  },
  {
   "cell_type": "markdown",
   "metadata": {},
   "source": [
    "#### Purchase Price"
   ]
  },
  {
   "cell_type": "markdown",
   "metadata": {},
   "source": [
    "There are 18 unique groupings for the vehicle purchase price. Let's view them ordered by their frequency."
   ]
  },
  {
   "cell_type": "code",
   "execution_count": 9,
   "metadata": {},
   "outputs": [
    {
     "data": {
      "text/html": [
       "<div>\n",
       "<style scoped>\n",
       "    .dataframe tbody tr th:only-of-type {\n",
       "        vertical-align: middle;\n",
       "    }\n",
       "\n",
       "    .dataframe tbody tr th {\n",
       "        vertical-align: top;\n",
       "    }\n",
       "\n",
       "    .dataframe thead th {\n",
       "        text-align: right;\n",
       "    }\n",
       "</style>\n",
       "<table border=\"1\" class=\"dataframe\">\n",
       "  <thead>\n",
       "    <tr style=\"text-align: right;\">\n",
       "      <th></th>\n",
       "      <th>purchase_price</th>\n",
       "      <th>Frequency</th>\n",
       "      <th>Rate</th>\n",
       "    </tr>\n",
       "  </thead>\n",
       "  <tbody>\n",
       "    <tr>\n",
       "      <th>0</th>\n",
       "      <td>15001 - 20000</td>\n",
       "      <td>118204</td>\n",
       "      <td>0.332154</td>\n",
       "    </tr>\n",
       "    <tr>\n",
       "      <th>1</th>\n",
       "      <td>10001 - 15000</td>\n",
       "      <td>101178</td>\n",
       "      <td>0.284311</td>\n",
       "    </tr>\n",
       "    <tr>\n",
       "      <th>2</th>\n",
       "      <td>20001 - 25000</td>\n",
       "      <td>66341</td>\n",
       "      <td>0.186419</td>\n",
       "    </tr>\n",
       "    <tr>\n",
       "      <th>3</th>\n",
       "      <td>25001 - 30000</td>\n",
       "      <td>32330</td>\n",
       "      <td>0.090848</td>\n",
       "    </tr>\n",
       "    <tr>\n",
       "      <th>4</th>\n",
       "      <td>30001 - 35000</td>\n",
       "      <td>15265</td>\n",
       "      <td>0.042895</td>\n",
       "    </tr>\n",
       "    <tr>\n",
       "      <th>5</th>\n",
       "      <td>5001 - 10000</td>\n",
       "      <td>9110</td>\n",
       "      <td>0.025599</td>\n",
       "    </tr>\n",
       "    <tr>\n",
       "      <th>6</th>\n",
       "      <td>35001 - 40000</td>\n",
       "      <td>7271</td>\n",
       "      <td>0.020432</td>\n",
       "    </tr>\n",
       "    <tr>\n",
       "      <th>7</th>\n",
       "      <td>40001 - 45000</td>\n",
       "      <td>3061</td>\n",
       "      <td>0.008601</td>\n",
       "    </tr>\n",
       "    <tr>\n",
       "      <th>8</th>\n",
       "      <td>45001 - 50000</td>\n",
       "      <td>1575</td>\n",
       "      <td>0.004426</td>\n",
       "    </tr>\n",
       "    <tr>\n",
       "      <th>9</th>\n",
       "      <td>50001 - 55000</td>\n",
       "      <td>680</td>\n",
       "      <td>0.001911</td>\n",
       "    </tr>\n",
       "    <tr>\n",
       "      <th>10</th>\n",
       "      <td>55001 - 60000</td>\n",
       "      <td>373</td>\n",
       "      <td>0.001048</td>\n",
       "    </tr>\n",
       "    <tr>\n",
       "      <th>11</th>\n",
       "      <td>60001 - 65000</td>\n",
       "      <td>208</td>\n",
       "      <td>0.000584</td>\n",
       "    </tr>\n",
       "    <tr>\n",
       "      <th>12</th>\n",
       "      <td>65001 - 70000</td>\n",
       "      <td>136</td>\n",
       "      <td>0.000382</td>\n",
       "    </tr>\n",
       "    <tr>\n",
       "      <th>13</th>\n",
       "      <td>70001 - 75000</td>\n",
       "      <td>64</td>\n",
       "      <td>0.000180</td>\n",
       "    </tr>\n",
       "    <tr>\n",
       "      <th>14</th>\n",
       "      <td>75001 - 80000</td>\n",
       "      <td>40</td>\n",
       "      <td>0.000112</td>\n",
       "    </tr>\n",
       "    <tr>\n",
       "      <th>15</th>\n",
       "      <td>85001 - 90000</td>\n",
       "      <td>17</td>\n",
       "      <td>0.000048</td>\n",
       "    </tr>\n",
       "    <tr>\n",
       "      <th>16</th>\n",
       "      <td>80001 - 85000</td>\n",
       "      <td>14</td>\n",
       "      <td>0.000039</td>\n",
       "    </tr>\n",
       "    <tr>\n",
       "      <th>17</th>\n",
       "      <td>90001 - 95000</td>\n",
       "      <td>4</td>\n",
       "      <td>0.000011</td>\n",
       "    </tr>\n",
       "  </tbody>\n",
       "</table>\n",
       "</div>"
      ],
      "text/plain": [
       "   purchase_price  Frequency      Rate\n",
       "0   15001 - 20000     118204  0.332154\n",
       "1   10001 - 15000     101178  0.284311\n",
       "2   20001 - 25000      66341  0.186419\n",
       "3   25001 - 30000      32330  0.090848\n",
       "4   30001 - 35000      15265  0.042895\n",
       "5    5001 - 10000       9110  0.025599\n",
       "6   35001 - 40000       7271  0.020432\n",
       "7   40001 - 45000       3061  0.008601\n",
       "8   45001 - 50000       1575  0.004426\n",
       "9   50001 - 55000        680  0.001911\n",
       "10  55001 - 60000        373  0.001048\n",
       "11  60001 - 65000        208  0.000584\n",
       "12  65001 - 70000        136  0.000382\n",
       "13  70001 - 75000         64  0.000180\n",
       "14  75001 - 80000         40  0.000112\n",
       "15  85001 - 90000         17  0.000048\n",
       "16  80001 - 85000         14  0.000039\n",
       "17  90001 - 95000          4  0.000011"
      ]
     },
     "execution_count": 9,
     "metadata": {},
     "output_type": "execute_result"
    }
   ],
   "source": [
    "purchase_price_data = analyze_col(data,'purchase_price',True)\n",
    "purchase_price_data"
   ]
  },
  {
   "cell_type": "markdown",
   "metadata": {},
   "source": [
    "80% of vehicles purchased were between \\\\$10,001 and $25,000, and 94% of vehicles purchased were between \\\\$5,000 and \\\\$35,000. \n",
    "\n",
    "Comparing this to the current public inventory on [carmax.com](https://www.carmax.com/), 92% of the the vehicles within 250 miles of my current zip code are priced between \\\\$6,000 - \\\\$35,000.\n",
    "\n",
    "Let's view the overall distribution of purchases prices."
   ]
  },
  {
   "cell_type": "code",
   "execution_count": 10,
   "metadata": {},
   "outputs": [
    {
     "data": {
      "image/png": "[encoded data removed]",
      "text/plain": [
       "<Figure size 864x432 with 1 Axes>"
      ]
     },
     "metadata": {
      "needs_background": "light"
     },
     "output_type": "display_data"
    }
   ],
   "source": [
    "# Calculations used above\n",
    "round(100*purchase_price_data.Rate[:5].sum(),2)# 93.66\n",
    "round(100*purchase_price_data.Rate[:3].sum(),2);# 80.29\n",
    "\n",
    "# Cleaning up the purchase price data for plotting\n",
    "purchase_price_data.purchase_price = purchase_price_data.purchase_price.apply(clean_price)\n",
    "nidx=[8,0,1,2,3,4,5,6,7,9,10,11,12,13,14,15,16,17,18]\n",
    "purchase_price_data = purchase_price_data.sort_values(by='purchase_price').reset_index(drop=True).reindex(nidx).reset_index(drop=True)\n",
    "\n",
    "# Plotting the distribution of purchase prices\n",
    "plt.figure(figsize=(12,6)) # Setting the figure size\n",
    "sns.barplot(\"purchase_price\", y=\"Rate\", data=purchase_price_data[:-1], palette=\"Blues_d\")\n",
    "plt.title(\"Distribution of Purchase Prices\") # Setting the title\n",
    "plt.xlabel(\"Purchase Price (in thousands)\") # Setting the x-label\n",
    "plt.ylabel(\"Percent of Total Purchases\"); # Setting the y-label"
   ]
  },
  {
   "cell_type": "markdown",
   "metadata": {},
   "source": [
    "#### Trade-In\n",
    "\n",
    "Next, let's see the percentage of purchases that included a trade-in."
   ]
  },
  {
   "cell_type": "code",
   "execution_count": 11,
   "metadata": {},
   "outputs": [
    {
     "data": {
      "image/png": "[encoded data removed]",
      "text/plain": [
       "<Figure size 864x432 with 1 Axes>"
      ]
     },
     "metadata": {
      "needs_background": "light"
     },
     "output_type": "display_data"
    }
   ],
   "source": [
    "# Analyzing the trade in count and rate\n",
    "trade_in_data = analyze_col(data,'trade_in',True)\n",
    "# Cleaning up the data for plotting\n",
    "trade_in_data.iloc[0,0] = 'No'\n",
    "trade_in_data.iloc[1,0] = 'Yes'\n",
    "\n",
    "# Plotting the distributoin of trade-in data\n",
    "plt.figure(figsize=(12,6)) # Setting the figure size\n",
    "plt.bar(trade_in_data.trade_in,trade_in_data.Rate, color=\"cadetblue\")\n",
    "plt.title(\"Distribution of Purchases With a Trade-In\") # Setting the title\n",
    "plt.xlabel(\"Purchase Had Trade-In\") # Setting the x-label\n",
    "plt.ylabel(\"Percent of Total Purchases\"); # Setting the y-label\n",
    "no_value = trade_in_data.Rate.apply(lambda x: round(x,2))[0] # Creating bar labels\n",
    "yes_value = trade_in_data.Rate.apply(lambda x: round(x,2))[1]\n",
    "plt.text('No', no_value+.004, str(no_value),fontsize='large', ha = 'center', va='bottom', snap = False)\n",
    "plt.text('Yes', yes_value-.005, str(yes_value),fontsize='large', ha = 'center', va='bottom', snap = False);  "
   ]
  },
  {
   "cell_type": "markdown",
   "metadata": {},
   "source": [
    "#### Vehicle Financing\n",
    "\n",
    "78% of transactions required a loan to finance their purchase, leaving the remaining 22% of purchasers to forgo financing."
   ]
  },
  {
   "cell_type": "code",
   "execution_count": 12,
   "metadata": {},
   "outputs": [
    {
     "data": {
      "image/png": "[encoded data removed]",
      "text/plain": [
       "<Figure size 720x432 with 1 Axes>"
      ]
     },
     "metadata": {
      "needs_background": "light"
     },
     "output_type": "display_data"
    }
   ],
   "source": [
    "# Analyzing the vehicle finnacing data\n",
    "vehicle_financing_data = analyze_col(data,'vehicle_financing',True)\n",
    "vehicle_financing_data.iloc[0,0] = 'Yes'\n",
    "vehicle_financing_data.iloc[1,0] = 'No'\n",
    "# Plotting the distribution  of vehicle finance data\n",
    "plt.figure(figsize=(10,6)) # Setting the figure size\n",
    "plt.bar(vehicle_financing_data.vehicle_financing.iloc[::-1],vehicle_financing_data.Rate.iloc[::-1], color=\"cadetblue\")\n",
    "plt.title(\"Distribution of Purchases Requiring Financing\") # Setting the title\n",
    "plt.xlabel(\"Purchase Required a Loan\") # Setting the x-label\n",
    "plt.ylabel(\"Percent of Total Purchases\"); # Setting the y-label\n",
    "# Setting up the y/n values for plotting\n",
    "no_value = vehicle_financing_data.Rate.apply(lambda x: round(x,2))[1]\n",
    "yes_value = vehicle_financing_data.Rate.apply(lambda x: round(x,2))[0]\n",
    "plt.text('No', no_value, str(no_value),fontsize='large', ha = 'center', va='bottom', snap = False)\n",
    "plt.text('Yes', yes_value-.001, str(yes_value),fontsize='large', ha = 'center', va='bottom', snap = False);"
   ]
  },
  {
   "cell_type": "markdown",
   "metadata": {},
   "source": [
    "#### Customer Age Data\n",
    "\n",
    "Let's look at the different customer age groups and the percentage of purchases that were made by that age group, ranked from most to least frequent. 87.58% of vehicles purchased were by buyers between the ages of 21 and 60."
   ]
  },
  {
   "cell_type": "code",
   "execution_count": 13,
   "metadata": {},
   "outputs": [
    {
     "data": {
      "text/html": [
       "<div>\n",
       "<style scoped>\n",
       "    .dataframe tbody tr th:only-of-type {\n",
       "        vertical-align: middle;\n",
       "    }\n",
       "\n",
       "    .dataframe tbody tr th {\n",
       "        vertical-align: top;\n",
       "    }\n",
       "\n",
       "    .dataframe thead th {\n",
       "        text-align: right;\n",
       "    }\n",
       "</style>\n",
       "<table border=\"1\" class=\"dataframe\">\n",
       "  <thead>\n",
       "    <tr style=\"text-align: right;\">\n",
       "      <th></th>\n",
       "      <th>customer_age</th>\n",
       "      <th>Frequency</th>\n",
       "      <th>Rate</th>\n",
       "    </tr>\n",
       "  </thead>\n",
       "  <tbody>\n",
       "    <tr>\n",
       "      <th>0</th>\n",
       "      <td>31 - 40</td>\n",
       "      <td>88312</td>\n",
       "      <td>0.248923</td>\n",
       "    </tr>\n",
       "    <tr>\n",
       "      <th>1</th>\n",
       "      <td>41 - 50</td>\n",
       "      <td>84604</td>\n",
       "      <td>0.238472</td>\n",
       "    </tr>\n",
       "    <tr>\n",
       "      <th>2</th>\n",
       "      <td>21 - 30</td>\n",
       "      <td>83004</td>\n",
       "      <td>0.233962</td>\n",
       "    </tr>\n",
       "    <tr>\n",
       "      <th>3</th>\n",
       "      <td>51 - 60</td>\n",
       "      <td>54801</td>\n",
       "      <td>0.154466</td>\n",
       "    </tr>\n",
       "    <tr>\n",
       "      <th>4</th>\n",
       "      <td>61 - 70</td>\n",
       "      <td>26104</td>\n",
       "      <td>0.073579</td>\n",
       "    </tr>\n",
       "    <tr>\n",
       "      <th>5</th>\n",
       "      <td>71 - 80</td>\n",
       "      <td>8182</td>\n",
       "      <td>0.023062</td>\n",
       "    </tr>\n",
       "    <tr>\n",
       "      <th>6</th>\n",
       "      <td>0 - 20</td>\n",
       "      <td>6133</td>\n",
       "      <td>0.017287</td>\n",
       "    </tr>\n",
       "    <tr>\n",
       "      <th>7</th>\n",
       "      <td>81 - 90</td>\n",
       "      <td>2228</td>\n",
       "      <td>0.006280</td>\n",
       "    </tr>\n",
       "    <tr>\n",
       "      <th>8</th>\n",
       "      <td>101+</td>\n",
       "      <td>1251</td>\n",
       "      <td>0.003526</td>\n",
       "    </tr>\n",
       "    <tr>\n",
       "      <th>9</th>\n",
       "      <td>91 - 100</td>\n",
       "      <td>157</td>\n",
       "      <td>0.000443</td>\n",
       "    </tr>\n",
       "  </tbody>\n",
       "</table>\n",
       "</div>"
      ],
      "text/plain": [
       "  customer_age  Frequency      Rate\n",
       "0      31 - 40      88312  0.248923\n",
       "1      41 - 50      84604  0.238472\n",
       "2      21 - 30      83004  0.233962\n",
       "3      51 - 60      54801  0.154466\n",
       "4      61 - 70      26104  0.073579\n",
       "5      71 - 80       8182  0.023062\n",
       "6       0 - 20       6133  0.017287\n",
       "7      81 - 90       2228  0.006280\n",
       "8         101+       1251  0.003526\n",
       "9     91 - 100        157  0.000443"
      ]
     },
     "execution_count": 13,
     "metadata": {},
     "output_type": "execute_result"
    }
   ],
   "source": [
    "customer_age_data = analyze_col(data,'customer_age',True)\n",
    "customer_age_data"
   ]
  },
  {
   "cell_type": "markdown",
   "metadata": {},
   "source": [
    "Let's view the distribution of customer ages."
   ]
  },
  {
   "cell_type": "code",
   "execution_count": 14,
   "metadata": {},
   "outputs": [
    {
     "data": {
      "image/png": "[encoded data removed]",
      "text/plain": [
       "<Figure size 864x432 with 1 Axes>"
      ]
     },
     "metadata": {
      "needs_background": "light"
     },
     "output_type": "display_data"
    }
   ],
   "source": [
    "# Calculation used above\n",
    "round(100*customer_age_data.Rate[:4].sum(),2) # 87.58\n",
    "\n",
    "# Ordering by age bracket\n",
    "nidx=[0,2,3,4,5,6,7,8,9,1,10]\n",
    "customer_age_data = customer_age_data.sort_values(by='customer_age').reset_index(drop=True).reindex(nidx).reset_index(drop=True)\n",
    "\n",
    "# Plotting the distribution of customer ages\n",
    "plt.figure(figsize=(12,6)) # Setting the figure size\n",
    "sns.barplot(\"customer_age\", y=\"Rate\", data=customer_age_data[:-1], palette=\"Blues_d\")\n",
    "plt.title(\"Distribution of Customer Ages\") # Setting the title\n",
    "plt.xlabel(\"Customer Age At Time Of Purchase\") # Setting the x-label\n",
    "plt.ylabel(\"Percent of Total Purchases\"); # Setting the y-label"
   ]
  },
  {
   "cell_type": "markdown",
   "metadata": {},
   "source": [
    "#### Customer Income Data"
   ]
  },
  {
   "cell_type": "markdown",
   "metadata": {},
   "source": [
    "Over half of purchases were made by customers with an income between \\\\$20,000 and \\\\$60,000, with 75% of all customers making less than \\\\$80,000. Lets view the distribution of purchases made by each customer income bracket."
   ]
  },
  {
   "cell_type": "code",
   "execution_count": 15,
   "metadata": {},
   "outputs": [
    {
     "data": {
      "image/png": "[encoded data removed]",
      "text/plain": [
       "<Figure size 864x432 with 1 Axes>"
      ]
     },
     "metadata": {
      "needs_background": "light"
     },
     "output_type": "display_data"
    }
   ],
   "source": [
    "# Analyzing the count and rate of coustomer incomes\n",
    "customer_income_data = analyze_col(data,'customer_income',True)\n",
    "customer_income_data.head(2).Rate.sum() # .5094 - Calculation used above\n",
    "customer_income_data.head(4).Rate.sum() # 0.7521s\n",
    "# Cleaning the data for plotting \n",
    "customer_income_data.customer_income = customer_income_data.customer_income.apply(clean_price)\n",
    "customer_income_data=customer_income_data.reindex([3,0,1,2,4,5,8,7,9,10,6]).reset_index(drop=True)\n",
    "# Plotting the distribution of customer income\n",
    "plt.figure(figsize=(12,6)) # Setting the figure size\n",
    "sns.barplot(\"customer_income\", y=\"Rate\", data=customer_income_data[:-1], palette=\"Blues_d\")\n",
    "plt.title(\"Distribution of Customer Income\") # Setting the title\n",
    "plt.xlabel(\"Customer Income At Time Of Purchase (In Thousands)\") # Setting the x-label\n",
    "plt.ylabel(\"Percent of Total Purchases\"); # Setting the y-label"
   ]
  },
  {
   "cell_type": "markdown",
   "metadata": {},
   "source": [
    "#### Customer Gender"
   ]
  },
  {
   "cell_type": "markdown",
   "metadata": {},
   "source": [
    "For the 91% of transactions that identified the customer's gender, 57.5% were made by men and 42.5% were made by women."
   ]
  },
  {
   "cell_type": "code",
   "execution_count": 16,
   "metadata": {},
   "outputs": [
    {
     "data": {
      "text/html": [
       "<div>\n",
       "<style scoped>\n",
       "    .dataframe tbody tr th:only-of-type {\n",
       "        vertical-align: middle;\n",
       "    }\n",
       "\n",
       "    .dataframe tbody tr th {\n",
       "        vertical-align: top;\n",
       "    }\n",
       "\n",
       "    .dataframe thead th {\n",
       "        text-align: right;\n",
       "    }\n",
       "</style>\n",
       "<table border=\"1\" class=\"dataframe\">\n",
       "  <thead>\n",
       "    <tr style=\"text-align: right;\">\n",
       "      <th></th>\n",
       "      <th>customer_gender</th>\n",
       "      <th>Frequency</th>\n",
       "      <th>Rate</th>\n",
       "    </tr>\n",
       "  </thead>\n",
       "  <tbody>\n",
       "    <tr>\n",
       "      <th>0</th>\n",
       "      <td>M</td>\n",
       "      <td>184500</td>\n",
       "      <td>0.575473</td>\n",
       "    </tr>\n",
       "    <tr>\n",
       "      <th>1</th>\n",
       "      <td>F</td>\n",
       "      <td>136106</td>\n",
       "      <td>0.424527</td>\n",
       "    </tr>\n",
       "  </tbody>\n",
       "</table>\n",
       "</div>"
      ],
      "text/plain": [
       "  customer_gender  Frequency      Rate\n",
       "0               M     184500  0.575473\n",
       "1               F     136106  0.424527"
      ]
     },
     "execution_count": 16,
     "metadata": {},
     "output_type": "execute_result"
    }
   ],
   "source": [
    "analyze_col(data,'customer_gender',True)"
   ]
  },
  {
   "cell_type": "markdown",
   "metadata": {},
   "source": [
    "#### Customer Previous Purchases"
   ]
  },
  {
   "cell_type": "markdown",
   "metadata": {},
   "source": [
    "20% of customers made a purchase prior to 2013 from the same dealer. Of those customers that made a previous purchase, 37% made a subsequent purchase after 2013 (alongside their 2013 purchase recorded in the data)."
   ]
  },
  {
   "cell_type": "code",
   "execution_count": 17,
   "metadata": {},
   "outputs": [
    {
     "data": {
      "text/html": [
       "<div>\n",
       "<style scoped>\n",
       "    .dataframe tbody tr th:only-of-type {\n",
       "        vertical-align: middle;\n",
       "    }\n",
       "\n",
       "    .dataframe tbody tr th {\n",
       "        vertical-align: top;\n",
       "    }\n",
       "\n",
       "    .dataframe thead th {\n",
       "        text-align: right;\n",
       "    }\n",
       "</style>\n",
       "<table border=\"1\" class=\"dataframe\">\n",
       "  <thead>\n",
       "    <tr style=\"text-align: right;\">\n",
       "      <th></th>\n",
       "      <th>customer_previous_purchase</th>\n",
       "      <th>Frequency</th>\n",
       "      <th>Rate</th>\n",
       "    </tr>\n",
       "  </thead>\n",
       "  <tbody>\n",
       "    <tr>\n",
       "      <th>0</th>\n",
       "      <td>0</td>\n",
       "      <td>283003</td>\n",
       "      <td>0.795234</td>\n",
       "    </tr>\n",
       "    <tr>\n",
       "      <th>1</th>\n",
       "      <td>1</td>\n",
       "      <td>72871</td>\n",
       "      <td>0.204766</td>\n",
       "    </tr>\n",
       "  </tbody>\n",
       "</table>\n",
       "</div>"
      ],
      "text/plain": [
       "   customer_previous_purchase  Frequency      Rate\n",
       "0                           0     283003  0.795234\n",
       "1                           1      72871  0.204766"
      ]
     },
     "execution_count": 17,
     "metadata": {},
     "output_type": "execute_result"
    }
   ],
   "source": [
    "data_cpp = data[data.customer_previous_purchase !=0] # customers with previous purchase\n",
    "data_cpp_sp = data_cpp[data_cpp.subsequent_purchases !=0] #previous purchase + subsequent purchase\n",
    "len(data_cpp_sp)/len(data_cpp) # .371039233714372\n",
    "analyze_col(data,'customer_previous_purchase',True)"
   ]
  },
  {
   "cell_type": "markdown",
   "metadata": {},
   "source": [
    "#### Customer Distance to Dealer"
   ]
  },
  {
   "cell_type": "markdown",
   "metadata": {},
   "source": [
    "95.73% of customers lived within 50 miles from the dealership at the time of purchase. Let's view the distribution of customer distances to the dealership at the time of purchase in 2013."
   ]
  },
  {
   "cell_type": "code",
   "execution_count": 18,
   "metadata": {},
   "outputs": [
    {
     "data": {
      "image/png": "[encoded data removed]",
      "text/plain": [
       "<Figure size 864x432 with 1 Axes>"
      ]
     },
     "metadata": {
      "needs_background": "light"
     },
     "output_type": "display_data"
    }
   ],
   "source": [
    "# Analyzing the rate and distribution of 'customer_distance_to_dealer'\n",
    "data_customer_distance_to_dealer = analyze_col(data,'customer_distance_to_dealer',True)\n",
    "\n",
    "# Calculations used above\n",
    "data_customer_distance_to_dealer=data_customer_distance_to_dealer.dropna(subset=['customer_distance_to_dealer']) # Remove missing values\n",
    "data_customer_distance_to_dealer.customer_distance_to_dealer= data_customer_distance_to_dealer.customer_distance_to_dealer.astype(int) # converting to int\n",
    "data_customer_distance_to_dealer = data_customer_distance_to_dealer.sort_values(by='customer_distance_to_dealer').reset_index(drop=True) # sorting by distance\n",
    "round(100*data_customer_distance_to_dealer.head(50).Rate.sum(),2); # 95.7 - Finding % within 50 miles\n",
    "\n",
    "# Combining all distances above 49 for easier plotting\n",
    "fiftyplus_Rate = data_customer_distance_to_dealer[50:].Rate.sum()\n",
    "fiftyplus_Freq = data_customer_distance_to_dealer[50:].Frequency.sum()\n",
    "data_customer_distance_to_dealer.iloc[50] = ['50+',fiftyplus_Freq,fiftyplus_Rate]\n",
    "data_customer_distance_to_dealer = data_customer_distance_to_dealer.head(51)\n",
    "\n",
    "# Plotting the distribution of customer distances\n",
    "plt.figure(figsize=(12,6)) # Setting the figure size\n",
    "sns.barplot(data=data_customer_distance_to_dealer,x='customer_distance_to_dealer',y='Rate', palette=\"Blues_d\")\n",
    "plt.xlabel(\"Customer's Distance To Dealership (in 2013)\") # Setting the x-label\n",
    "plt.ylabel(\"Percentage of Total Purchases\"); # Setting the y-label"
   ]
  },
  {
   "cell_type": "markdown",
   "metadata": {},
   "source": [
    "#### Post Purchase Satisfaction"
   ]
  },
  {
   "cell_type": "markdown",
   "metadata": {},
   "source": [
    "As discussed earlier, customers responded to the post-purchase satisfaction survey in only 0.3% of purchases. Because of this, we'll leave it out for the majority of the subsequent analyses. \n",
    "\n",
    "Let's see how the customer post-purchase satisfaction responses that were recorded break down."
   ]
  },
  {
   "cell_type": "code",
   "execution_count": 19,
   "metadata": {},
   "outputs": [
    {
     "data": {
      "text/html": [
       "<div>\n",
       "<style scoped>\n",
       "    .dataframe tbody tr th:only-of-type {\n",
       "        vertical-align: middle;\n",
       "    }\n",
       "\n",
       "    .dataframe tbody tr th {\n",
       "        vertical-align: top;\n",
       "    }\n",
       "\n",
       "    .dataframe thead th {\n",
       "        text-align: right;\n",
       "    }\n",
       "</style>\n",
       "<table border=\"1\" class=\"dataframe\">\n",
       "  <thead>\n",
       "    <tr style=\"text-align: right;\">\n",
       "      <th></th>\n",
       "      <th>post_purchase_satisfaction</th>\n",
       "      <th>Frequency</th>\n",
       "      <th>Rate</th>\n",
       "    </tr>\n",
       "  </thead>\n",
       "  <tbody>\n",
       "    <tr>\n",
       "      <th>0</th>\n",
       "      <td>10</td>\n",
       "      <td>803</td>\n",
       "      <td>0.670284</td>\n",
       "    </tr>\n",
       "    <tr>\n",
       "      <th>1</th>\n",
       "      <td>9</td>\n",
       "      <td>221</td>\n",
       "      <td>0.184474</td>\n",
       "    </tr>\n",
       "    <tr>\n",
       "      <th>2</th>\n",
       "      <td>8</td>\n",
       "      <td>92</td>\n",
       "      <td>0.076795</td>\n",
       "    </tr>\n",
       "    <tr>\n",
       "      <th>3</th>\n",
       "      <td>7</td>\n",
       "      <td>34</td>\n",
       "      <td>0.028381</td>\n",
       "    </tr>\n",
       "    <tr>\n",
       "      <th>4</th>\n",
       "      <td>6</td>\n",
       "      <td>12</td>\n",
       "      <td>0.010017</td>\n",
       "    </tr>\n",
       "    <tr>\n",
       "      <th>5</th>\n",
       "      <td>0</td>\n",
       "      <td>12</td>\n",
       "      <td>0.010017</td>\n",
       "    </tr>\n",
       "    <tr>\n",
       "      <th>6</th>\n",
       "      <td>4</td>\n",
       "      <td>6</td>\n",
       "      <td>0.005008</td>\n",
       "    </tr>\n",
       "    <tr>\n",
       "      <th>7</th>\n",
       "      <td>3</td>\n",
       "      <td>5</td>\n",
       "      <td>0.004174</td>\n",
       "    </tr>\n",
       "    <tr>\n",
       "      <th>8</th>\n",
       "      <td>1</td>\n",
       "      <td>1</td>\n",
       "      <td>0.000835</td>\n",
       "    </tr>\n",
       "    <tr>\n",
       "      <th>9</th>\n",
       "      <td>5</td>\n",
       "      <td>12</td>\n",
       "      <td>0.010017</td>\n",
       "    </tr>\n",
       "  </tbody>\n",
       "</table>\n",
       "</div>"
      ],
      "text/plain": [
       "  post_purchase_satisfaction  Frequency      Rate\n",
       "0                         10        803  0.670284\n",
       "1                          9        221  0.184474\n",
       "2                          8         92  0.076795\n",
       "3                          7         34  0.028381\n",
       "4                          6         12  0.010017\n",
       "5                          0         12  0.010017\n",
       "6                          4          6  0.005008\n",
       "7                          3          5  0.004174\n",
       "8                          1          1  0.000835\n",
       "9                          5         12  0.010017"
      ]
     },
     "execution_count": 19,
     "metadata": {},
     "output_type": "execute_result"
    }
   ],
   "source": [
    "analyze_col(data,'post_purchase_satisfaction',True).reindex([0,1,2,3,5,4,7,8,9,6]).reset_index(drop=True)"
   ]
  },
  {
   "cell_type": "markdown",
   "metadata": {},
   "source": [
    "#### Vehicle Warranty Used"
   ]
  },
  {
   "cell_type": "markdown",
   "metadata": {},
   "source": [
    "25% of purchases leveraged the dealer's vehicle warranty. Later, we'll look at what trends were present in purchases where the vehicle warranty was (and wasn't) purchased. "
   ]
  },
  {
   "cell_type": "code",
   "execution_count": 20,
   "metadata": {},
   "outputs": [
    {
     "data": {
      "text/html": [
       "<div>\n",
       "<style scoped>\n",
       "    .dataframe tbody tr th:only-of-type {\n",
       "        vertical-align: middle;\n",
       "    }\n",
       "\n",
       "    .dataframe tbody tr th {\n",
       "        vertical-align: top;\n",
       "    }\n",
       "\n",
       "    .dataframe thead th {\n",
       "        text-align: right;\n",
       "    }\n",
       "</style>\n",
       "<table border=\"1\" class=\"dataframe\">\n",
       "  <thead>\n",
       "    <tr style=\"text-align: right;\">\n",
       "      <th></th>\n",
       "      <th>vehicle_warranty_used</th>\n",
       "      <th>Frequency</th>\n",
       "      <th>Rate</th>\n",
       "    </tr>\n",
       "  </thead>\n",
       "  <tbody>\n",
       "    <tr>\n",
       "      <th>0</th>\n",
       "      <td>0</td>\n",
       "      <td>266158</td>\n",
       "      <td>0.7479</td>\n",
       "    </tr>\n",
       "    <tr>\n",
       "      <th>1</th>\n",
       "      <td>1</td>\n",
       "      <td>89716</td>\n",
       "      <td>0.2521</td>\n",
       "    </tr>\n",
       "  </tbody>\n",
       "</table>\n",
       "</div>"
      ],
      "text/plain": [
       "   vehicle_warranty_used  Frequency    Rate\n",
       "0                      0     266158  0.7479\n",
       "1                      1      89716  0.2521"
      ]
     },
     "execution_count": 20,
     "metadata": {},
     "output_type": "execute_result"
    }
   ],
   "source": [
    "analyze_col(data,'vehicle_warranty_used',True)"
   ]
  },
  {
   "cell_type": "markdown",
   "metadata": {},
   "source": [
    "#### Subsequent Purchase\n",
    "\n",
    "Finally, let's look at the data for the amount of subsequent purchases made by each customer. \n",
    "\n",
    "33.67% of customers made a subsequent purchase after 2013. Of the customers that made subsequent purchases, 80.62% made just 1 subsequent purchase in the following five years (2014-2018)."
   ]
  },
  {
   "cell_type": "code",
   "execution_count": 21,
   "metadata": {},
   "outputs": [
    {
     "data": {
      "text/html": [
       "<div>\n",
       "<style scoped>\n",
       "    .dataframe tbody tr th:only-of-type {\n",
       "        vertical-align: middle;\n",
       "    }\n",
       "\n",
       "    .dataframe tbody tr th {\n",
       "        vertical-align: top;\n",
       "    }\n",
       "\n",
       "    .dataframe thead th {\n",
       "        text-align: right;\n",
       "    }\n",
       "</style>\n",
       "<table border=\"1\" class=\"dataframe\">\n",
       "  <thead>\n",
       "    <tr style=\"text-align: right;\">\n",
       "      <th></th>\n",
       "      <th>subsequent_purchases</th>\n",
       "      <th>Frequency</th>\n",
       "      <th>Rate</th>\n",
       "    </tr>\n",
       "  </thead>\n",
       "  <tbody>\n",
       "    <tr>\n",
       "      <th>0</th>\n",
       "      <td>0</td>\n",
       "      <td>236056</td>\n",
       "      <td>0.663313</td>\n",
       "    </tr>\n",
       "    <tr>\n",
       "      <th>1</th>\n",
       "      <td>1</td>\n",
       "      <td>96594</td>\n",
       "      <td>0.271428</td>\n",
       "    </tr>\n",
       "    <tr>\n",
       "      <th>2</th>\n",
       "      <td>2</td>\n",
       "      <td>9256</td>\n",
       "      <td>0.026009</td>\n",
       "    </tr>\n",
       "    <tr>\n",
       "      <th>3</th>\n",
       "      <td>3</td>\n",
       "      <td>3698</td>\n",
       "      <td>0.010391</td>\n",
       "    </tr>\n",
       "    <tr>\n",
       "      <th>4</th>\n",
       "      <td>4</td>\n",
       "      <td>3103</td>\n",
       "      <td>0.008719</td>\n",
       "    </tr>\n",
       "    <tr>\n",
       "      <th>5</th>\n",
       "      <td>5</td>\n",
       "      <td>1989</td>\n",
       "      <td>0.005589</td>\n",
       "    </tr>\n",
       "    <tr>\n",
       "      <th>6</th>\n",
       "      <td>6</td>\n",
       "      <td>1051</td>\n",
       "      <td>0.002953</td>\n",
       "    </tr>\n",
       "    <tr>\n",
       "      <th>7</th>\n",
       "      <td>7</td>\n",
       "      <td>1073</td>\n",
       "      <td>0.003015</td>\n",
       "    </tr>\n",
       "    <tr>\n",
       "      <th>8</th>\n",
       "      <td>8</td>\n",
       "      <td>1008</td>\n",
       "      <td>0.002832</td>\n",
       "    </tr>\n",
       "    <tr>\n",
       "      <th>9</th>\n",
       "      <td>9</td>\n",
       "      <td>1069</td>\n",
       "      <td>0.003004</td>\n",
       "    </tr>\n",
       "    <tr>\n",
       "      <th>10</th>\n",
       "      <td>10</td>\n",
       "      <td>977</td>\n",
       "      <td>0.002745</td>\n",
       "    </tr>\n",
       "  </tbody>\n",
       "</table>\n",
       "</div>"
      ],
      "text/plain": [
       "    subsequent_purchases  Frequency      Rate\n",
       "0                      0     236056  0.663313\n",
       "1                      1      96594  0.271428\n",
       "2                      2       9256  0.026009\n",
       "3                      3       3698  0.010391\n",
       "4                      4       3103  0.008719\n",
       "5                      5       1989  0.005589\n",
       "6                      6       1051  0.002953\n",
       "7                      7       1073  0.003015\n",
       "8                      8       1008  0.002832\n",
       "9                      9       1069  0.003004\n",
       "10                    10        977  0.002745"
      ]
     },
     "execution_count": 21,
     "metadata": {},
     "output_type": "execute_result"
    }
   ],
   "source": [
    "# Analyzing the distribution of subsequent purchases\n",
    "data_subsequent_purchases=analyze_col(data,'subsequent_purchases',True)\n",
    "\n",
    "# Calculatios used above\n",
    "100 - round(100*data_subsequent_purchases.iloc[0,2],2) # = 33.67 - included subsequent purchase\n",
    "without_subsequent_purchase = analyze_col(data[data.subsequent_purchases!=0],'subsequent_purchases',True) # including only cases w/subsequent purchase\n",
    "round(100*without_subsequent_purchase.iloc[0,2],2); # 80.62 - one subsequent purchase/count all subsq\n",
    "\n",
    "# Viewing the distribution of subsequent purchases\n",
    "data_subsequent_purchases.reindex([0,1,2,3,4,5,8,6,9,7,10]).reset_index(drop=True)"
   ]
  },
  {
   "cell_type": "markdown",
   "metadata": {},
   "source": [
    "### Correlations\n",
    "\n",
    "Before stepping into the analysis, let's create a correlation 'heatmap' that shows how dependent each pair of variables are."
   ]
  },
  {
   "cell_type": "code",
   "execution_count": 22,
   "metadata": {},
   "outputs": [],
   "source": [
    "# Function to return the average of a range of numbers\n",
    "def avg_two(s):\n",
    "    if s=='200001+':\n",
    "        return 200001\n",
    "    elif s=='101+':\n",
    "        return 101\n",
    "    else:\n",
    "        a,b = s.replace(' ','').split('-')\n",
    "        if a==np.NaN:\n",
    "            return np.NaN\n",
    "        else:\n",
    "            return int(a)/2+int(b)/2\n",
    "\n",
    "# Creating and plotting a correlation heatmap \n",
    "corr_data = data.copy()\n",
    "corr_data = corr_data.dropna(subset=['purchase_price','customer_income','customer_age'])\n",
    "corr_data.purchase_price = corr_data.purchase_price.apply(avg_two)\n",
    "corr_data.customer_income = corr_data.customer_income.apply(avg_two)\n",
    "corr_data.customer_age = corr_data.customer_age.apply(avg_two)"
   ]
  },
  {
   "cell_type": "markdown",
   "metadata": {},
   "source": [
    "A few findings include:\n",
    "\n",
    "* The purchase price is moderately correlated to the purchase income.\n",
    "* Whether a trade-in was present is moderately correlated to the purchase price.\n",
    "* The purchase vehicle year isn't strongly correlated with whether the vehicle warranty was used.\n",
    "* The customer previous purchase isn't strongly correlated with whether they financed their vehicle purchase."
   ]
  },
  {
   "cell_type": "code",
   "execution_count": 23,
   "metadata": {},
   "outputs": [
    {
     "data": {
      "image/png": "[encoded data removed]",
      "text/plain": [
       "<Figure size 432x288 with 2 Axes>"
      ]
     },
     "metadata": {
      "needs_background": "light"
     },
     "output_type": "display_data"
    }
   ],
   "source": [
    "sns.heatmap(corr_data.corr());"
   ]
  },
  {
   "cell_type": "markdown",
   "metadata": {},
   "source": [
    "## 2. Analyses and Prediction"
   ]
  },
  {
   "cell_type": "markdown",
   "metadata": {},
   "source": [
    "In this section, we'll use several approaches to segment CarMax customers into distinct groups, as well as build  models to predict the purchase behavior of current and potential customers.\n",
    "\n",
    "A focus for this section is to identify trends in variables we deem 'high value' for the business, allowing CarMax to make informed marketing and inventory decisions that leverages their industry knowledge. For example, the buyers that are more likely to make subsequent purchase may not be the same buyers that finance their vehicle. Our goal is to provide CarMax with guidance and insights into their buyers' behavior to better inform their strategy decisions."
   ]
  },
  {
   "cell_type": "markdown",
   "metadata": {},
   "source": [
    "### Finding Repeat Customers\n",
    "\n",
    "An important variable in the dataset is whether the purchaser made a subsequent purchase. Repeat customers have a high customer lifetime value, making them valuable to the firm. As shown above, 34% of the purchases involved customers who made a subsequent purchase following their 2013 purchase.\n",
    "\n",
    "Let's explore the data and see if there are certain demographics of buyers that are more likely to have made subsequent purchases. Understanding these trends could help CarMax focus its marketing and inventory strategies to better attract customers with a high lifetime value.\n",
    "\n",
    "Before doing so, let's create a new variable, 'made_subsequent_purchase', to denote if a subsequent purchase was made."
   ]
  },
  {
   "cell_type": "code",
   "execution_count": 24,
   "metadata": {},
   "outputs": [
    {
     "data": {
      "text/html": [
       "<div>\n",
       "<style scoped>\n",
       "    .dataframe tbody tr th:only-of-type {\n",
       "        vertical-align: middle;\n",
       "    }\n",
       "\n",
       "    .dataframe tbody tr th {\n",
       "        vertical-align: top;\n",
       "    }\n",
       "\n",
       "    .dataframe thead th {\n",
       "        text-align: right;\n",
       "    }\n",
       "</style>\n",
       "<table border=\"1\" class=\"dataframe\">\n",
       "  <thead>\n",
       "    <tr style=\"text-align: right;\">\n",
       "      <th></th>\n",
       "      <th>insert_num</th>\n",
       "      <th>purchase_make</th>\n",
       "      <th>purchase_model</th>\n",
       "      <th>purchase_vehicle_year</th>\n",
       "      <th>purchase_price</th>\n",
       "      <th>trade_in</th>\n",
       "      <th>vehicle_financing</th>\n",
       "      <th>customer_age</th>\n",
       "      <th>customer_income</th>\n",
       "      <th>customer_gender</th>\n",
       "      <th>customer_previous_purchase</th>\n",
       "      <th>customer_distance_to_dealer</th>\n",
       "      <th>post_purchase_satisfaction</th>\n",
       "      <th>vehicle_warranty_used</th>\n",
       "      <th>subsequent_purchases</th>\n",
       "      <th>made_subsequent_purchase</th>\n",
       "    </tr>\n",
       "  </thead>\n",
       "  <tbody>\n",
       "    <tr>\n",
       "      <th>0</th>\n",
       "      <td>81690</td>\n",
       "      <td>DODGE</td>\n",
       "      <td>CHARGER</td>\n",
       "      <td>2012</td>\n",
       "      <td>15001 - 20000</td>\n",
       "      <td>1</td>\n",
       "      <td>1</td>\n",
       "      <td>21 - 30</td>\n",
       "      <td>40001 - 60000</td>\n",
       "      <td>NaN</td>\n",
       "      <td>0</td>\n",
       "      <td>8</td>\n",
       "      <td>NaN</td>\n",
       "      <td>0</td>\n",
       "      <td>1</td>\n",
       "      <td>1</td>\n",
       "    </tr>\n",
       "    <tr>\n",
       "      <th>1</th>\n",
       "      <td>109994</td>\n",
       "      <td>FORD</td>\n",
       "      <td>F150</td>\n",
       "      <td>2007</td>\n",
       "      <td>15001 - 20000</td>\n",
       "      <td>0</td>\n",
       "      <td>0</td>\n",
       "      <td>51 - 60</td>\n",
       "      <td>0 - 20000</td>\n",
       "      <td>F</td>\n",
       "      <td>1</td>\n",
       "      <td>19</td>\n",
       "      <td>NaN</td>\n",
       "      <td>0</td>\n",
       "      <td>0</td>\n",
       "      <td>0</td>\n",
       "    </tr>\n",
       "    <tr>\n",
       "      <th>2</th>\n",
       "      <td>11399</td>\n",
       "      <td>BMW</td>\n",
       "      <td>328</td>\n",
       "      <td>2010</td>\n",
       "      <td>25001 - 30000</td>\n",
       "      <td>1</td>\n",
       "      <td>1</td>\n",
       "      <td>41 - 50</td>\n",
       "      <td>60001 - 80000</td>\n",
       "      <td>F</td>\n",
       "      <td>1</td>\n",
       "      <td>21</td>\n",
       "      <td>NaN</td>\n",
       "      <td>0</td>\n",
       "      <td>0</td>\n",
       "      <td>0</td>\n",
       "    </tr>\n",
       "    <tr>\n",
       "      <th>3</th>\n",
       "      <td>214156</td>\n",
       "      <td>LEXUS</td>\n",
       "      <td>GS 300</td>\n",
       "      <td>2003</td>\n",
       "      <td>10001 - 15000</td>\n",
       "      <td>0</td>\n",
       "      <td>1</td>\n",
       "      <td>21 - 30</td>\n",
       "      <td>20001 - 40000</td>\n",
       "      <td>M</td>\n",
       "      <td>0</td>\n",
       "      <td>8</td>\n",
       "      <td>NaN</td>\n",
       "      <td>0</td>\n",
       "      <td>0</td>\n",
       "      <td>0</td>\n",
       "    </tr>\n",
       "    <tr>\n",
       "      <th>4</th>\n",
       "      <td>36685</td>\n",
       "      <td>CHEVROLET</td>\n",
       "      <td>CRUZE</td>\n",
       "      <td>2012</td>\n",
       "      <td>15001 - 20000</td>\n",
       "      <td>1</td>\n",
       "      <td>1</td>\n",
       "      <td>31 - 40</td>\n",
       "      <td>120001 - 140000</td>\n",
       "      <td>M</td>\n",
       "      <td>1</td>\n",
       "      <td>5</td>\n",
       "      <td>NaN</td>\n",
       "      <td>1</td>\n",
       "      <td>1</td>\n",
       "      <td>1</td>\n",
       "    </tr>\n",
       "  </tbody>\n",
       "</table>\n",
       "</div>"
      ],
      "text/plain": [
       "   insert_num purchase_make purchase_model  purchase_vehicle_year  \\\n",
       "0       81690         DODGE        CHARGER                   2012   \n",
       "1      109994          FORD           F150                   2007   \n",
       "2       11399           BMW            328                   2010   \n",
       "3      214156         LEXUS         GS 300                   2003   \n",
       "4       36685     CHEVROLET          CRUZE                   2012   \n",
       "\n",
       "  purchase_price  trade_in  vehicle_financing customer_age  customer_income  \\\n",
       "0  15001 - 20000         1                  1      21 - 30    40001 - 60000   \n",
       "1  15001 - 20000         0                  0      51 - 60        0 - 20000   \n",
       "2  25001 - 30000         1                  1      41 - 50    60001 - 80000   \n",
       "3  10001 - 15000         0                  1      21 - 30    20001 - 40000   \n",
       "4  15001 - 20000         1                  1      31 - 40  120001 - 140000   \n",
       "\n",
       "  customer_gender  customer_previous_purchase customer_distance_to_dealer  \\\n",
       "0             NaN                           0                           8   \n",
       "1               F                           1                          19   \n",
       "2               F                           1                          21   \n",
       "3               M                           0                           8   \n",
       "4               M                           1                           5   \n",
       "\n",
       "  post_purchase_satisfaction  vehicle_warranty_used  subsequent_purchases  \\\n",
       "0                        NaN                      0                     1   \n",
       "1                        NaN                      0                     0   \n",
       "2                        NaN                      0                     0   \n",
       "3                        NaN                      0                     0   \n",
       "4                        NaN                      1                     1   \n",
       "\n",
       "   made_subsequent_purchase  \n",
       "0                         1  \n",
       "1                         0  \n",
       "2                         0  \n",
       "3                         0  \n",
       "4                         1  "
      ]
     },
     "execution_count": 24,
     "metadata": {},
     "output_type": "execute_result"
    }
   ],
   "source": [
    "data['made_subsequent_purchase'] = data['subsequent_purchases'].map({0:0,1:1,2:1,3:1,4:1,5:1,6:1,7:1,8:1,9:1,10:1})\n",
    "data.head(5)"
   ]
  },
  {
   "cell_type": "markdown",
   "metadata": {},
   "source": [
    "#### Relationship Between 'customer_gender' and 'made_subsequent_purchase' \n",
    "\n",
    "Let's look at the relationship between gender and subsequent purchases."
   ]
  },
  {
   "cell_type": "code",
   "execution_count": 25,
   "metadata": {},
   "outputs": [
    {
     "name": "stdout",
     "output_type": "stream",
     "text": [
      "Overall percentage of subsequent purchases: 33.67%.\n",
      "Male percentage of subsequent purchases: 34.19%.\n",
      "Female percentage of subsequent purchases: 33.06%.\n",
      "Men are 3.42% more likely to have made subsequent purchases.\n"
     ]
    }
   ],
   "source": [
    "# Customer gender\n",
    "msp_mean = round(100*data.made_subsequent_purchase.mean(),2)\n",
    "print('Overall percentage of subsequent purchases: '+ str(msp_mean) +'%.')\n",
    "print('Male percentage of subsequent purchases: '+ str(round(100*data[data.customer_gender == 'M'].made_subsequent_purchase.mean(),2)) +'%.')\n",
    "print('Female percentage of subsequent purchases: '+ str(round(100*data[data.customer_gender == 'F'].made_subsequent_purchase.mean(),2)) +'%.')\n",
    "print('Men are ' + str(round(100*(34.19-33.06)/33.06,2)) + '% more likely to have made subsequent purchases.')"
   ]
  },
  {
   "cell_type": "markdown",
   "metadata": {},
   "source": [
    "#### Relationship Between 'customer_income' and 'made_subsequent_purchase' \n",
    "\n",
    "Next, let's see if a customer's income is related to whether they made a subsequent purchase. "
   ]
  },
  {
   "cell_type": "code",
   "execution_count": 26,
   "metadata": {},
   "outputs": [
    {
     "data": {
      "text/html": [
       "<div>\n",
       "<style scoped>\n",
       "    .dataframe tbody tr th:only-of-type {\n",
       "        vertical-align: middle;\n",
       "    }\n",
       "\n",
       "    .dataframe tbody tr th {\n",
       "        vertical-align: top;\n",
       "    }\n",
       "\n",
       "    .dataframe thead th {\n",
       "        text-align: right;\n",
       "    }\n",
       "</style>\n",
       "<table border=\"1\" class=\"dataframe\">\n",
       "  <thead>\n",
       "    <tr style=\"text-align: right;\">\n",
       "      <th></th>\n",
       "      <th>customer_income</th>\n",
       "      <th>made_subsequent_purchase_percentage</th>\n",
       "    </tr>\n",
       "  </thead>\n",
       "  <tbody>\n",
       "    <tr>\n",
       "      <th>0</th>\n",
       "      <td>200001+</td>\n",
       "      <td>0.4</td>\n",
       "    </tr>\n",
       "    <tr>\n",
       "      <th>1</th>\n",
       "      <td>160001 - 180000</td>\n",
       "      <td>0.38</td>\n",
       "    </tr>\n",
       "    <tr>\n",
       "      <th>2</th>\n",
       "      <td>140001 - 160000</td>\n",
       "      <td>0.37</td>\n",
       "    </tr>\n",
       "    <tr>\n",
       "      <th>3</th>\n",
       "      <td>120001 - 140000</td>\n",
       "      <td>0.36</td>\n",
       "    </tr>\n",
       "    <tr>\n",
       "      <th>4</th>\n",
       "      <td>80001 - 100000</td>\n",
       "      <td>0.35</td>\n",
       "    </tr>\n",
       "    <tr>\n",
       "      <th>5</th>\n",
       "      <td>100001 - 120000</td>\n",
       "      <td>0.35</td>\n",
       "    </tr>\n",
       "    <tr>\n",
       "      <th>6</th>\n",
       "      <td>180001 - 200000</td>\n",
       "      <td>0.35</td>\n",
       "    </tr>\n",
       "    <tr>\n",
       "      <th>7</th>\n",
       "      <td>All</td>\n",
       "      <td>0.34</td>\n",
       "    </tr>\n",
       "    <tr>\n",
       "      <th>8</th>\n",
       "      <td>40001 - 60000</td>\n",
       "      <td>0.33</td>\n",
       "    </tr>\n",
       "    <tr>\n",
       "      <th>9</th>\n",
       "      <td>0 - 20000</td>\n",
       "      <td>0.33</td>\n",
       "    </tr>\n",
       "    <tr>\n",
       "      <th>10</th>\n",
       "      <td>60001 - 80000</td>\n",
       "      <td>0.33</td>\n",
       "    </tr>\n",
       "    <tr>\n",
       "      <th>11</th>\n",
       "      <td>20001 - 40000</td>\n",
       "      <td>0.32</td>\n",
       "    </tr>\n",
       "  </tbody>\n",
       "</table>\n",
       "</div>"
      ],
      "text/plain": [
       "    customer_income made_subsequent_purchase_percentage\n",
       "0           200001+                                 0.4\n",
       "1   160001 - 180000                                0.38\n",
       "2   140001 - 160000                                0.37\n",
       "3   120001 - 140000                                0.36\n",
       "4    80001 - 100000                                0.35\n",
       "5   100001 - 120000                                0.35\n",
       "6   180001 - 200000                                0.35\n",
       "7               All                                0.34\n",
       "8     40001 - 60000                                0.33\n",
       "9         0 - 20000                                0.33\n",
       "10    60001 - 80000                                0.33\n",
       "11    20001 - 40000                                0.32"
      ]
     },
     "execution_count": 26,
     "metadata": {},
     "output_type": "execute_result"
    }
   ],
   "source": [
    "#  Getting unique customer incomes\n",
    "income_list = list(data.customer_income.unique())\n",
    "income_mspp = []\n",
    "# Getting subsequent purchase percentage for each income\n",
    "for i in income_list:\n",
    "    income_mspp.append(str(round(data[data.customer_income == i].made_subsequent_purchase.mean(),2)))\n",
    "# Adding the income brackets and subsequent purchase made percentages to a dataframe    \n",
    "income_v_mspp = pd.DataFrame(list(zip(income_list, income_mspp)), \n",
    "            columns =['customer_income', 'made_subsequent_purchase_percentage']).append({'customer_income': 'All','made_subsequent_purchase_percentage':str(round(msp_mean/100,2))}, ignore_index=True).sort_values(by = 'made_subsequent_purchase_percentage', ascending = False).dropna().reset_index(drop=True)\n",
    "income_v_mspp"
   ]
  },
  {
   "cell_type": "markdown",
   "metadata": {},
   "source": [
    "Customers with an income above \\\\$80,000 were more likely than average to have made a subsequent purchase, while those making below \\\\$80,000 were less likely than average to make a subsequent purchase.\n",
    "\n",
    "#### Relationship Between 'customer_age' and 'made_subsequent_purchase' \n",
    "\n",
    "Overall, age wasn't highly correlated with whether a subsequent purchase was made. The only two age brackets with significant differences were 101+ and 0-20, both of which were above the average for all ages groups."
   ]
  },
  {
   "cell_type": "code",
   "execution_count": 27,
   "metadata": {},
   "outputs": [
    {
     "data": {
      "text/html": [
       "<div>\n",
       "<style scoped>\n",
       "    .dataframe tbody tr th:only-of-type {\n",
       "        vertical-align: middle;\n",
       "    }\n",
       "\n",
       "    .dataframe tbody tr th {\n",
       "        vertical-align: top;\n",
       "    }\n",
       "\n",
       "    .dataframe thead th {\n",
       "        text-align: right;\n",
       "    }\n",
       "</style>\n",
       "<table border=\"1\" class=\"dataframe\">\n",
       "  <thead>\n",
       "    <tr style=\"text-align: right;\">\n",
       "      <th></th>\n",
       "      <th>customer_age</th>\n",
       "      <th>made_subsequent_purchase_percentage</th>\n",
       "    </tr>\n",
       "  </thead>\n",
       "  <tbody>\n",
       "    <tr>\n",
       "      <th>0</th>\n",
       "      <td>101+</td>\n",
       "      <td>0.43</td>\n",
       "    </tr>\n",
       "    <tr>\n",
       "      <th>1</th>\n",
       "      <td>0 - 20</td>\n",
       "      <td>0.36</td>\n",
       "    </tr>\n",
       "    <tr>\n",
       "      <th>2</th>\n",
       "      <td>51 - 60</td>\n",
       "      <td>0.34</td>\n",
       "    </tr>\n",
       "    <tr>\n",
       "      <th>3</th>\n",
       "      <td>41 - 50</td>\n",
       "      <td>0.34</td>\n",
       "    </tr>\n",
       "    <tr>\n",
       "      <th>4</th>\n",
       "      <td>All</td>\n",
       "      <td>0.34</td>\n",
       "    </tr>\n",
       "    <tr>\n",
       "      <th>5</th>\n",
       "      <td>21 - 30</td>\n",
       "      <td>0.33</td>\n",
       "    </tr>\n",
       "    <tr>\n",
       "      <th>6</th>\n",
       "      <td>31 - 40</td>\n",
       "      <td>0.33</td>\n",
       "    </tr>\n",
       "    <tr>\n",
       "      <th>7</th>\n",
       "      <td>61 - 70</td>\n",
       "      <td>0.33</td>\n",
       "    </tr>\n",
       "    <tr>\n",
       "      <th>8</th>\n",
       "      <td>81 - 90</td>\n",
       "      <td>0.33</td>\n",
       "    </tr>\n",
       "    <tr>\n",
       "      <th>9</th>\n",
       "      <td>71 - 80</td>\n",
       "      <td>0.32</td>\n",
       "    </tr>\n",
       "    <tr>\n",
       "      <th>10</th>\n",
       "      <td>91 - 100</td>\n",
       "      <td>0.32</td>\n",
       "    </tr>\n",
       "  </tbody>\n",
       "</table>\n",
       "</div>"
      ],
      "text/plain": [
       "   customer_age made_subsequent_purchase_percentage\n",
       "0          101+                                0.43\n",
       "1        0 - 20                                0.36\n",
       "2       51 - 60                                0.34\n",
       "3       41 - 50                                0.34\n",
       "4           All                                0.34\n",
       "5       21 - 30                                0.33\n",
       "6       31 - 40                                0.33\n",
       "7       61 - 70                                0.33\n",
       "8       81 - 90                                0.33\n",
       "9       71 - 80                                0.32\n",
       "10     91 - 100                                0.32"
      ]
     },
     "execution_count": 27,
     "metadata": {},
     "output_type": "execute_result"
    }
   ],
   "source": [
    "age_list = list(data.customer_age.unique())\n",
    "age_mspp = []\n",
    "for a in age_list:\n",
    "    age_mspp.append(str(round(data[data.customer_age == a].made_subsequent_purchase.mean(),2)))\n",
    "age_v_mspp = pd.DataFrame(list(zip(age_list, age_mspp)), \n",
    "            columns =['customer_age', 'made_subsequent_purchase_percentage']).append({'customer_age': 'All','made_subsequent_purchase_percentage':str(round(msp_mean/100,2))}, ignore_index=True).sort_values(by = 'made_subsequent_purchase_percentage', ascending = False).dropna().reset_index(drop=True)\n",
    "age_v_mspp"
   ]
  },
  {
   "cell_type": "markdown",
   "metadata": {},
   "source": [
    "#### Relationship Between 'trade_in', 'vehicle_warranty_used', and 'made_subsequent_purchase' "
   ]
  },
  {
   "cell_type": "markdown",
   "metadata": {},
   "source": [
    "Customers that traded in a vehicle at the time of their purchase were 14% more likely to have made a subsequent purchase than customers that didn't trade in a vehicle, and customers that leveraged the dealer's vehicle warranty were 9% more likely to make a subsequent purchase than customers that did not."
   ]
  },
  {
   "cell_type": "code",
   "execution_count": 28,
   "metadata": {},
   "outputs": [],
   "source": [
    "# Trade in v made_subsequent_purchase\n",
    "tradein_n = data[data.trade_in ==0].made_subsequent_purchase.mean()\n",
    "tradein_y = data[data.trade_in == 1].made_subsequent_purchase.mean()\n",
    "(tradein_y-tradein_n)/tradein_n # 0.1360240660515319\n",
    "\n",
    "# Trade in v  vehicle_warranty_used\n",
    "vwu_n = data[data. vehicle_warranty_used ==0].made_subsequent_purchase.mean()\n",
    "vwu_y = data[data. vehicle_warranty_used == 1].made_subsequent_purchase.mean()\n",
    "(vwu_y-vwu_n)/vwu_n; # 0.08938566251581653"
   ]
  },
  {
   "cell_type": "markdown",
   "metadata": {},
   "source": [
    "#### Customer Previous Purchase Recommendation\n",
    "\n",
    "Below is a summary regarding which segments of buyers were more or less likely to have made a subsequent purchase.\n",
    "\n",
    "* There was little difference between the subsequent buying behavior of men and women, with men 3.42% more likely to have made a subsequent purchase than women.\n",
    "* A customer's income is related to whether they made a subsequent purchase, with customers earning above \\\\$80,000 making more than the average amount of subsequent purchases, and those below \\\\$80,000 making below the average amount of subsequent purchases.\n",
    "* The customer's age showed a small correlation with whether they make a subsequent purchase, with all age brackets below 100 sitting within 2 percentage points of the overall average amount of subsequent purchases made. \n",
    "* Customers that either traded in a vehicle at the time of purchase or leveraged the dealer's warranty were more likely to have made a subsequent purchase."
   ]
  },
  {
   "cell_type": "markdown",
   "metadata": {},
   "source": [
    "### Subsequent Purchase Made v Year/Make/Model"
   ]
  },
  {
   "cell_type": "markdown",
   "metadata": {},
   "source": [
    "Continuing the discussion from above, grouping whether a subsequent purchase was made by each make, year, and model car yields some interesting results. \n",
    "\n",
    "To start, let's make a dataset with the 3030 unique cars sold, along with the amount of subsequent purchases made by customers that bought that unique car. We'll also include the number of each type of car sold to filter our results by. "
   ]
  },
  {
   "cell_type": "code",
   "execution_count": 29,
   "metadata": {},
   "outputs": [],
   "source": [
    "# Creating a new column with the year/make/model\n",
    "data['year_make_model'] = data['purchase_vehicle_year'].astype(str) + ' ' + data['purchase_make'] + ' ' + data['purchase_model']\n",
    "# Counting how many of each car was sold\n",
    "data['model_count'] = data.groupby('year_make_model')['year_make_model'].transform('count')\n",
    "# Similar code as earlier.\n",
    "p_prices = list(data.year_make_model.unique())\n",
    "fr_list = []\n",
    "for p in p_prices:\n",
    "    fr_list.append(str(round(data[data.year_make_model == p].made_subsequent_purchase.mean(),2)))\n",
    "ppf_df = pd.DataFrame(list(zip(p_prices, fr_list)), \n",
    "            columns =['purchase_model', 'made_subsequent_purchase_percentage']).append({'purchase_model': 'All','made_subsequent_purchase_percentage':str(round(data.made_subsequent_purchase.mean(),2))}, ignore_index=True).sort_values(by = 'made_subsequent_purchase_percentage', ascending = False).dropna().reset_index(drop=True)\n",
    "# Merging the made_subsequent_purchase_percentage data with the model count data\n",
    "model_sp = ppf_df.merge(data[['year_make_model','model_count']], left_on = 'purchase_model', right_on = 'year_make_model').drop_duplicates(subset=['year_make_model'])\n",
    "model_sp = model_sp[['year_make_model','made_subsequent_purchase_percentage','model_count']].reset_index(drop=True)"
   ]
  },
  {
   "cell_type": "markdown",
   "metadata": {},
   "source": [
    "If we look at the cars with the highest 'made_subsequent_purchase_percentage', we'll see outliers where only a few of that car were sold. Its safe to say that stocking up on 1988 Porsche 911s probably isn't the best inventory strategy."
   ]
  },
  {
   "cell_type": "code",
   "execution_count": 30,
   "metadata": {},
   "outputs": [
    {
     "data": {
      "text/html": [
       "<div>\n",
       "<style scoped>\n",
       "    .dataframe tbody tr th:only-of-type {\n",
       "        vertical-align: middle;\n",
       "    }\n",
       "\n",
       "    .dataframe tbody tr th {\n",
       "        vertical-align: top;\n",
       "    }\n",
       "\n",
       "    .dataframe thead th {\n",
       "        text-align: right;\n",
       "    }\n",
       "</style>\n",
       "<table border=\"1\" class=\"dataframe\">\n",
       "  <thead>\n",
       "    <tr style=\"text-align: right;\">\n",
       "      <th></th>\n",
       "      <th>year_make_model</th>\n",
       "      <th>made_subsequent_purchase_percentage</th>\n",
       "      <th>model_count</th>\n",
       "    </tr>\n",
       "  </thead>\n",
       "  <tbody>\n",
       "    <tr>\n",
       "      <th>0</th>\n",
       "      <td>1988 PORSCHE 911</td>\n",
       "      <td>1.0</td>\n",
       "      <td>2</td>\n",
       "    </tr>\n",
       "    <tr>\n",
       "      <th>1</th>\n",
       "      <td>2001 FORD F350</td>\n",
       "      <td>1.0</td>\n",
       "      <td>2</td>\n",
       "    </tr>\n",
       "    <tr>\n",
       "      <th>2</th>\n",
       "      <td>2006 MAZDA B2300</td>\n",
       "      <td>1.0</td>\n",
       "      <td>3</td>\n",
       "    </tr>\n",
       "    <tr>\n",
       "      <th>3</th>\n",
       "      <td>2003 VOLVO S80</td>\n",
       "      <td>1.0</td>\n",
       "      <td>1</td>\n",
       "    </tr>\n",
       "    <tr>\n",
       "      <th>4</th>\n",
       "      <td>2006 JAGUAR XJ8</td>\n",
       "      <td>1.0</td>\n",
       "      <td>2</td>\n",
       "    </tr>\n",
       "    <tr>\n",
       "      <th>5</th>\n",
       "      <td>2003 LAND ROVER RANGE ROVER</td>\n",
       "      <td>1.0</td>\n",
       "      <td>1</td>\n",
       "    </tr>\n",
       "    <tr>\n",
       "      <th>6</th>\n",
       "      <td>2006 CHEVROLET EXPRESS 1500</td>\n",
       "      <td>1.0</td>\n",
       "      <td>4</td>\n",
       "    </tr>\n",
       "    <tr>\n",
       "      <th>7</th>\n",
       "      <td>2000 MERCEDES-BENZ S500</td>\n",
       "      <td>1.0</td>\n",
       "      <td>1</td>\n",
       "    </tr>\n",
       "    <tr>\n",
       "      <th>8</th>\n",
       "      <td>2012 MERCEDES-BENZ ML550</td>\n",
       "      <td>1.0</td>\n",
       "      <td>2</td>\n",
       "    </tr>\n",
       "    <tr>\n",
       "      <th>9</th>\n",
       "      <td>2005 GMC SAVANA 2500</td>\n",
       "      <td>1.0</td>\n",
       "      <td>1</td>\n",
       "    </tr>\n",
       "  </tbody>\n",
       "</table>\n",
       "</div>"
      ],
      "text/plain": [
       "               year_make_model made_subsequent_purchase_percentage  \\\n",
       "0             1988 PORSCHE 911                                 1.0   \n",
       "1               2001 FORD F350                                 1.0   \n",
       "2             2006 MAZDA B2300                                 1.0   \n",
       "3               2003 VOLVO S80                                 1.0   \n",
       "4              2006 JAGUAR XJ8                                 1.0   \n",
       "5  2003 LAND ROVER RANGE ROVER                                 1.0   \n",
       "6  2006 CHEVROLET EXPRESS 1500                                 1.0   \n",
       "7      2000 MERCEDES-BENZ S500                                 1.0   \n",
       "8     2012 MERCEDES-BENZ ML550                                 1.0   \n",
       "9         2005 GMC SAVANA 2500                                 1.0   \n",
       "\n",
       "   model_count  \n",
       "0            2  \n",
       "1            2  \n",
       "2            3  \n",
       "3            1  \n",
       "4            2  \n",
       "5            1  \n",
       "6            4  \n",
       "7            1  \n",
       "8            2  \n",
       "9            1  "
      ]
     },
     "execution_count": 30,
     "metadata": {},
     "output_type": "execute_result"
    }
   ],
   "source": [
    "model_sp.head(10)"
   ]
  },
  {
   "cell_type": "markdown",
   "metadata": {},
   "source": [
    "Instead, let's filter by models sold over 1000 times. Below are top 5 and bottom 5 models from the 45 that meet this critera."
   ]
  },
  {
   "cell_type": "code",
   "execution_count": 31,
   "metadata": {},
   "outputs": [
    {
     "data": {
      "text/html": [
       "<div>\n",
       "<style scoped>\n",
       "    .dataframe tbody tr th:only-of-type {\n",
       "        vertical-align: middle;\n",
       "    }\n",
       "\n",
       "    .dataframe tbody tr th {\n",
       "        vertical-align: top;\n",
       "    }\n",
       "\n",
       "    .dataframe thead th {\n",
       "        text-align: right;\n",
       "    }\n",
       "</style>\n",
       "<table border=\"1\" class=\"dataframe\">\n",
       "  <thead>\n",
       "    <tr style=\"text-align: right;\">\n",
       "      <th></th>\n",
       "      <th>year_make_model</th>\n",
       "      <th>made_subsequent_purchase_percentage</th>\n",
       "      <th>model_count</th>\n",
       "    </tr>\n",
       "  </thead>\n",
       "  <tbody>\n",
       "    <tr>\n",
       "      <th>1386</th>\n",
       "      <td>2012 FORD MUSTANG</td>\n",
       "      <td>0.36</td>\n",
       "      <td>1053</td>\n",
       "    </tr>\n",
       "    <tr>\n",
       "      <th>1594</th>\n",
       "      <td>2012 FORD FOCUS</td>\n",
       "      <td>0.35</td>\n",
       "      <td>2228</td>\n",
       "    </tr>\n",
       "    <tr>\n",
       "      <th>1600</th>\n",
       "      <td>2010 FORD F150</td>\n",
       "      <td>0.35</td>\n",
       "      <td>1151</td>\n",
       "    </tr>\n",
       "    <tr>\n",
       "      <th>1605</th>\n",
       "      <td>2011 FORD EDGE</td>\n",
       "      <td>0.35</td>\n",
       "      <td>1377</td>\n",
       "    </tr>\n",
       "    <tr>\n",
       "      <th>1729</th>\n",
       "      <td>2012 FORD ESCAPE</td>\n",
       "      <td>0.34</td>\n",
       "      <td>1174</td>\n",
       "    </tr>\n",
       "  </tbody>\n",
       "</table>\n",
       "</div>"
      ],
      "text/plain": [
       "        year_make_model made_subsequent_purchase_percentage  model_count\n",
       "1386  2012 FORD MUSTANG                                0.36         1053\n",
       "1594    2012 FORD FOCUS                                0.35         2228\n",
       "1600     2010 FORD F150                                0.35         1151\n",
       "1605     2011 FORD EDGE                                0.35         1377\n",
       "1729   2012 FORD ESCAPE                                0.34         1174"
      ]
     },
     "execution_count": 31,
     "metadata": {},
     "output_type": "execute_result"
    }
   ],
   "source": [
    "# Top 5 models above 1000 sales\n",
    "model_sp[model_sp.model_count > 1000].head(5)"
   ]
  },
  {
   "cell_type": "code",
   "execution_count": 33,
   "metadata": {},
   "outputs": [
    {
     "data": {
      "text/html": [
       "<div>\n",
       "<style scoped>\n",
       "    .dataframe tbody tr th:only-of-type {\n",
       "        vertical-align: middle;\n",
       "    }\n",
       "\n",
       "    .dataframe tbody tr th {\n",
       "        vertical-align: top;\n",
       "    }\n",
       "\n",
       "    .dataframe thead th {\n",
       "        text-align: right;\n",
       "    }\n",
       "</style>\n",
       "<table border=\"1\" class=\"dataframe\">\n",
       "  <thead>\n",
       "    <tr style=\"text-align: right;\">\n",
       "      <th></th>\n",
       "      <th>year_make_model</th>\n",
       "      <th>made_subsequent_purchase_percentage</th>\n",
       "      <th>model_count</th>\n",
       "    </tr>\n",
       "  </thead>\n",
       "  <tbody>\n",
       "    <tr>\n",
       "      <th>2357</th>\n",
       "      <td>2012 NISSAN SENTRA</td>\n",
       "      <td>0.31</td>\n",
       "      <td>1225</td>\n",
       "    </tr>\n",
       "    <tr>\n",
       "      <th>2360</th>\n",
       "      <td>2011 TOYOTA CAMRY</td>\n",
       "      <td>0.31</td>\n",
       "      <td>2915</td>\n",
       "    </tr>\n",
       "    <tr>\n",
       "      <th>2376</th>\n",
       "      <td>2011 CHEVROLET AVEO</td>\n",
       "      <td>0.31</td>\n",
       "      <td>1159</td>\n",
       "    </tr>\n",
       "    <tr>\n",
       "      <th>2424</th>\n",
       "      <td>2010 HONDA ACCORD</td>\n",
       "      <td>0.31</td>\n",
       "      <td>2727</td>\n",
       "    </tr>\n",
       "    <tr>\n",
       "      <th>2477</th>\n",
       "      <td>2011 NISSAN ALTIMA</td>\n",
       "      <td>0.31</td>\n",
       "      <td>1574</td>\n",
       "    </tr>\n",
       "  </tbody>\n",
       "</table>\n",
       "</div>"
      ],
      "text/plain": [
       "          year_make_model made_subsequent_purchase_percentage  model_count\n",
       "2357   2012 NISSAN SENTRA                                0.31         1225\n",
       "2360    2011 TOYOTA CAMRY                                0.31         2915\n",
       "2376  2011 CHEVROLET AVEO                                0.31         1159\n",
       "2424    2010 HONDA ACCORD                                0.31         2727\n",
       "2477   2011 NISSAN ALTIMA                                0.31         1574"
      ]
     },
     "execution_count": 33,
     "metadata": {},
     "output_type": "execute_result"
    }
   ],
   "source": [
    "# Bottom 5 models above 1000 sales\n",
    "model_sp[model_sp.model_count > 1000].tail(5)"
   ]
  },
  {
   "cell_type": "markdown",
   "metadata": {},
   "source": [
    "The standout here is all five models that resulted in the highest percentage of subsequent purchases were Fords. \n",
    "\n",
    "With a dataset this size, we expect there to be randomness and for some vehicles to outperform the overall average of 33.67% for the subsequent purchases made percentage. However, there may be value in knowing that Fords consistently outperform other brands in achieving subsequent purchases. \n",
    "\n",
    "For example, the Ford F-150 model consistently outperformed the average in terms of resulting in subsequent purchases."
   ]
  },
  {
   "cell_type": "code",
   "execution_count": 34,
   "metadata": {},
   "outputs": [
    {
     "data": {
      "text/html": [
       "<div>\n",
       "<style scoped>\n",
       "    .dataframe tbody tr th:only-of-type {\n",
       "        vertical-align: middle;\n",
       "    }\n",
       "\n",
       "    .dataframe tbody tr th {\n",
       "        vertical-align: top;\n",
       "    }\n",
       "\n",
       "    .dataframe thead th {\n",
       "        text-align: right;\n",
       "    }\n",
       "</style>\n",
       "<table border=\"1\" class=\"dataframe\">\n",
       "  <thead>\n",
       "    <tr style=\"text-align: right;\">\n",
       "      <th></th>\n",
       "      <th>year_make_model</th>\n",
       "      <th>made_subsequent_purchase_percentage</th>\n",
       "      <th>model_count</th>\n",
       "    </tr>\n",
       "  </thead>\n",
       "  <tbody>\n",
       "    <tr>\n",
       "      <th>0</th>\n",
       "      <td>2001 FORD F150</td>\n",
       "      <td>0.5</td>\n",
       "      <td>2</td>\n",
       "    </tr>\n",
       "    <tr>\n",
       "      <th>1</th>\n",
       "      <td>2012 FORD F150</td>\n",
       "      <td>0.4</td>\n",
       "      <td>774</td>\n",
       "    </tr>\n",
       "    <tr>\n",
       "      <th>2</th>\n",
       "      <td>2011 FORD F150</td>\n",
       "      <td>0.37</td>\n",
       "      <td>828</td>\n",
       "    </tr>\n",
       "    <tr>\n",
       "      <th>3</th>\n",
       "      <td>2009 FORD F150</td>\n",
       "      <td>0.36</td>\n",
       "      <td>435</td>\n",
       "    </tr>\n",
       "    <tr>\n",
       "      <th>4</th>\n",
       "      <td>2013 FORD F150</td>\n",
       "      <td>0.36</td>\n",
       "      <td>412</td>\n",
       "    </tr>\n",
       "    <tr>\n",
       "      <th>5</th>\n",
       "      <td>2007 FORD F150</td>\n",
       "      <td>0.36</td>\n",
       "      <td>633</td>\n",
       "    </tr>\n",
       "    <tr>\n",
       "      <th>6</th>\n",
       "      <td>2010 FORD F150</td>\n",
       "      <td>0.35</td>\n",
       "      <td>1151</td>\n",
       "    </tr>\n",
       "    <tr>\n",
       "      <th>7</th>\n",
       "      <td>2005 FORD F150</td>\n",
       "      <td>0.35</td>\n",
       "      <td>268</td>\n",
       "    </tr>\n",
       "    <tr>\n",
       "      <th>8</th>\n",
       "      <td>2008 FORD F150</td>\n",
       "      <td>0.34</td>\n",
       "      <td>620</td>\n",
       "    </tr>\n",
       "    <tr>\n",
       "      <th>9</th>\n",
       "      <td>2004 FORD F150</td>\n",
       "      <td>0.34</td>\n",
       "      <td>162</td>\n",
       "    </tr>\n",
       "    <tr>\n",
       "      <th>10</th>\n",
       "      <td>All</td>\n",
       "      <td>0.34</td>\n",
       "      <td>355874</td>\n",
       "    </tr>\n",
       "    <tr>\n",
       "      <th>11</th>\n",
       "      <td>2003 FORD F150</td>\n",
       "      <td>0.33</td>\n",
       "      <td>100</td>\n",
       "    </tr>\n",
       "    <tr>\n",
       "      <th>12</th>\n",
       "      <td>2006 FORD F150</td>\n",
       "      <td>0.33</td>\n",
       "      <td>515</td>\n",
       "    </tr>\n",
       "    <tr>\n",
       "      <th>13</th>\n",
       "      <td>2002 FORD F150</td>\n",
       "      <td>0.29</td>\n",
       "      <td>34</td>\n",
       "    </tr>\n",
       "    <tr>\n",
       "      <th>14</th>\n",
       "      <td>2004 FORD F150 HERITAGE</td>\n",
       "      <td>0.28</td>\n",
       "      <td>18</td>\n",
       "    </tr>\n",
       "  </tbody>\n",
       "</table>\n",
       "</div>"
      ],
      "text/plain": [
       "            year_make_model made_subsequent_purchase_percentage  model_count\n",
       "0            2001 FORD F150                                 0.5            2\n",
       "1            2012 FORD F150                                 0.4          774\n",
       "2            2011 FORD F150                                0.37          828\n",
       "3            2009 FORD F150                                0.36          435\n",
       "4            2013 FORD F150                                0.36          412\n",
       "5            2007 FORD F150                                0.36          633\n",
       "6            2010 FORD F150                                0.35         1151\n",
       "7            2005 FORD F150                                0.35          268\n",
       "8            2008 FORD F150                                0.34          620\n",
       "9            2004 FORD F150                                0.34          162\n",
       "10                      All                                0.34       355874\n",
       "11           2003 FORD F150                                0.33          100\n",
       "12           2006 FORD F150                                0.33          515\n",
       "13           2002 FORD F150                                0.29           34\n",
       "14  2004 FORD F150 HERITAGE                                0.28           18"
      ]
     },
     "execution_count": 34,
     "metadata": {},
     "output_type": "execute_result"
    }
   ],
   "source": [
    "model_sp[model_sp['year_make_model'].str.contains(\"FORD F150\")].append({'year_make_model': 'All','made_subsequent_purchase_percentage':str(round(data.made_subsequent_purchase.mean(),2)), 'model_count':len(data)}, ignore_index=True).sort_values(by = 'made_subsequent_purchase_percentage', ascending = False).dropna().reset_index(drop=True)"
   ]
  },
  {
   "cell_type": "markdown",
   "metadata": {},
   "source": [
    "This analysis could be readily extended to asses other models and manufacturers, as well as factors such as a car's manufacturing date, body style, or mileage. Further, we could also incorporate other responses, such as if the purchase leveraged a warranty or financing from CarMax."
   ]
  },
  {
   "cell_type": "markdown",
   "metadata": {},
   "source": [
    "### Trends With Vehicle Financing\n",
    "\n",
    "Next, let's see if there are any variables related to whether a person required a loan to finance their vehicle purchase. "
   ]
  },
  {
   "cell_type": "markdown",
   "metadata": {},
   "source": [
    "#### Relationship Between 'customer_income' and 'vehicle_financing'\n",
    "\n",
    "First, let's view the relationship between a customer's income and whether they financed their purchase.\n",
    "\n",
    "If we focus only on purchases where the customer's income was listed, the average finance usage rate was 89%. Let's see the finance usage rate for each income bracket."
   ]
  },
  {
   "cell_type": "code",
   "execution_count": 35,
   "metadata": {},
   "outputs": [
    {
     "data": {
      "text/html": [
       "<div>\n",
       "<style scoped>\n",
       "    .dataframe tbody tr th:only-of-type {\n",
       "        vertical-align: middle;\n",
       "    }\n",
       "\n",
       "    .dataframe tbody tr th {\n",
       "        vertical-align: top;\n",
       "    }\n",
       "\n",
       "    .dataframe thead th {\n",
       "        text-align: right;\n",
       "    }\n",
       "</style>\n",
       "<table border=\"1\" class=\"dataframe\">\n",
       "  <thead>\n",
       "    <tr style=\"text-align: right;\">\n",
       "      <th></th>\n",
       "      <th>customer_income</th>\n",
       "      <th>financing_usage</th>\n",
       "    </tr>\n",
       "  </thead>\n",
       "  <tbody>\n",
       "    <tr>\n",
       "      <th>0</th>\n",
       "      <td>40001 - 60000</td>\n",
       "      <td>0.91</td>\n",
       "    </tr>\n",
       "    <tr>\n",
       "      <th>1</th>\n",
       "      <td>20001 - 40000</td>\n",
       "      <td>0.91</td>\n",
       "    </tr>\n",
       "    <tr>\n",
       "      <th>2</th>\n",
       "      <td>60001 - 80000</td>\n",
       "      <td>0.9</td>\n",
       "    </tr>\n",
       "    <tr>\n",
       "      <th>3</th>\n",
       "      <td>80001 - 100000</td>\n",
       "      <td>0.9</td>\n",
       "    </tr>\n",
       "    <tr>\n",
       "      <th>4</th>\n",
       "      <td>140001 - 160000</td>\n",
       "      <td>0.9</td>\n",
       "    </tr>\n",
       "    <tr>\n",
       "      <th>5</th>\n",
       "      <td>100001 - 120000</td>\n",
       "      <td>0.9</td>\n",
       "    </tr>\n",
       "    <tr>\n",
       "      <th>6</th>\n",
       "      <td>120001 - 140000</td>\n",
       "      <td>0.89</td>\n",
       "    </tr>\n",
       "    <tr>\n",
       "      <th>7</th>\n",
       "      <td>180001 - 200000</td>\n",
       "      <td>0.89</td>\n",
       "    </tr>\n",
       "    <tr>\n",
       "      <th>8</th>\n",
       "      <td>160001 - 180000</td>\n",
       "      <td>0.89</td>\n",
       "    </tr>\n",
       "    <tr>\n",
       "      <th>9</th>\n",
       "      <td>All</td>\n",
       "      <td>0.89</td>\n",
       "    </tr>\n",
       "    <tr>\n",
       "      <th>10</th>\n",
       "      <td>200001+</td>\n",
       "      <td>0.88</td>\n",
       "    </tr>\n",
       "    <tr>\n",
       "      <th>11</th>\n",
       "      <td>0 - 20000</td>\n",
       "      <td>0.73</td>\n",
       "    </tr>\n",
       "  </tbody>\n",
       "</table>\n",
       "</div>"
      ],
      "text/plain": [
       "    customer_income financing_usage\n",
       "0     40001 - 60000            0.91\n",
       "1     20001 - 40000            0.91\n",
       "2     60001 - 80000             0.9\n",
       "3    80001 - 100000             0.9\n",
       "4   140001 - 160000             0.9\n",
       "5   100001 - 120000             0.9\n",
       "6   120001 - 140000            0.89\n",
       "7   180001 - 200000            0.89\n",
       "8   160001 - 180000            0.89\n",
       "9               All            0.89\n",
       "10          200001+            0.88\n",
       "11        0 - 20000            0.73"
      ]
     },
     "execution_count": 35,
     "metadata": {},
     "output_type": "execute_result"
    }
   ],
   "source": [
    "data_ci = data.dropna(subset=['customer_income'])\n",
    "ci_list = list(data_ci.customer_income.unique())\n",
    "fu_list = []\n",
    "for c in ci_list:\n",
    "    fu_list.append(str(round(data_ci[data_ci.customer_income == c].vehicle_financing.mean(),2)))\n",
    "fu_list\n",
    "ci_v_fu = pd.DataFrame(list(zip(ci_list, fu_list)), \n",
    "            columns =['customer_income', 'financing_usage']).append({'customer_income': 'All','financing_usage':str(round(data_ci.vehicle_financing.mean(),2))}, ignore_index=True).sort_values(by = 'financing_usage', ascending = False).dropna().reset_index(drop=True)\n",
    "ci_v_fu"
   ]
  },
  {
   "cell_type": "markdown",
   "metadata": {},
   "source": [
    "The majority of customer income brackets are grouped together at a financing usage rate around 90%. There isn't a large difference among the customer income brackets, except for the income bracket between \\\\$0 and \\\\$20,000 that had a much lower finance usage rate of 73%.\n",
    "\n",
    "You may notice there is a large discrepency in the average financing usage rate for purchases when rows where the customer's income are missing are removed (78% v 89%). This reveals that purchases without the income listed are much less likely to finance their purchase. We believe this missing data trend warrants further investigation.\n",
    "\n",
    "#### Relationship Between 'customer_gender' and 'vehicle_financing'\n",
    "\n",
    "Next, let's see how gender relates to whether a purchaser needed to finance their purchase. "
   ]
  },
  {
   "cell_type": "code",
   "execution_count": 36,
   "metadata": {},
   "outputs": [
    {
     "name": "stdout",
     "output_type": "stream",
     "text": [
      "Overall need for financing: 77.93%.\n",
      "Male need for financing: 76.11%.\n",
      "Female need for financing: 80.01%.\n",
      "Females were 5.12% more likely to use financing.\n"
     ]
    }
   ],
   "source": [
    "# Customer gender\n",
    "print('Overall need for financing: '+ str(round(100*data.vehicle_financing.mean(),2)) +'%.')\n",
    "print('Male need for financing: '+ str(round(100*data[data.customer_gender == 'M'].vehicle_financing.mean(),2)) +'%.')\n",
    "print('Female need for financing: '+ str(round(100*data[data.customer_gender == 'F'].vehicle_financing.mean(),2)) +'%.')\n",
    "print('Females were ' + str(round(100*(80.01-76.11)/76.11,2)) + '% more likely to use financing.')"
   ]
  },
  {
   "cell_type": "markdown",
   "metadata": {},
   "source": [
    "#### Relationship Between 'customer_age' and 'vehicle_financing' \n",
    "\n",
    "Let's see how finance usage relates to a purchaser's age bracket."
   ]
  },
  {
   "cell_type": "code",
   "execution_count": 37,
   "metadata": {},
   "outputs": [
    {
     "data": {
      "text/html": [
       "<div>\n",
       "<style scoped>\n",
       "    .dataframe tbody tr th:only-of-type {\n",
       "        vertical-align: middle;\n",
       "    }\n",
       "\n",
       "    .dataframe tbody tr th {\n",
       "        vertical-align: top;\n",
       "    }\n",
       "\n",
       "    .dataframe thead th {\n",
       "        text-align: right;\n",
       "    }\n",
       "</style>\n",
       "<table border=\"1\" class=\"dataframe\">\n",
       "  <thead>\n",
       "    <tr style=\"text-align: right;\">\n",
       "      <th></th>\n",
       "      <th>customer_age</th>\n",
       "      <th>financing_usage</th>\n",
       "    </tr>\n",
       "  </thead>\n",
       "  <tbody>\n",
       "    <tr>\n",
       "      <th>0</th>\n",
       "      <td>21 - 30</td>\n",
       "      <td>0.82</td>\n",
       "    </tr>\n",
       "    <tr>\n",
       "      <th>1</th>\n",
       "      <td>31 - 40</td>\n",
       "      <td>0.82</td>\n",
       "    </tr>\n",
       "    <tr>\n",
       "      <th>2</th>\n",
       "      <td>41 - 50</td>\n",
       "      <td>0.78</td>\n",
       "    </tr>\n",
       "    <tr>\n",
       "      <th>3</th>\n",
       "      <td>All</td>\n",
       "      <td>0.78</td>\n",
       "    </tr>\n",
       "    <tr>\n",
       "      <th>4</th>\n",
       "      <td>0 - 20</td>\n",
       "      <td>0.75</td>\n",
       "    </tr>\n",
       "    <tr>\n",
       "      <th>5</th>\n",
       "      <td>51 - 60</td>\n",
       "      <td>0.74</td>\n",
       "    </tr>\n",
       "    <tr>\n",
       "      <th>6</th>\n",
       "      <td>61 - 70</td>\n",
       "      <td>0.68</td>\n",
       "    </tr>\n",
       "    <tr>\n",
       "      <th>7</th>\n",
       "      <td>101+</td>\n",
       "      <td>0.6</td>\n",
       "    </tr>\n",
       "    <tr>\n",
       "      <th>8</th>\n",
       "      <td>71 - 80</td>\n",
       "      <td>0.6</td>\n",
       "    </tr>\n",
       "    <tr>\n",
       "      <th>9</th>\n",
       "      <td>81 - 90</td>\n",
       "      <td>0.46</td>\n",
       "    </tr>\n",
       "    <tr>\n",
       "      <th>10</th>\n",
       "      <td>91 - 100</td>\n",
       "      <td>0.36</td>\n",
       "    </tr>\n",
       "  </tbody>\n",
       "</table>\n",
       "</div>"
      ],
      "text/plain": [
       "   customer_age financing_usage\n",
       "0       21 - 30            0.82\n",
       "1       31 - 40            0.82\n",
       "2       41 - 50            0.78\n",
       "3           All            0.78\n",
       "4        0 - 20            0.75\n",
       "5       51 - 60            0.74\n",
       "6       61 - 70            0.68\n",
       "7          101+             0.6\n",
       "8       71 - 80             0.6\n",
       "9       81 - 90            0.46\n",
       "10     91 - 100            0.36"
      ]
     },
     "execution_count": 37,
     "metadata": {},
     "output_type": "execute_result"
    }
   ],
   "source": [
    "ca_list = list(data_ci.customer_age.unique())\n",
    "fr_list = []\n",
    "for c in ca_list:\n",
    "    fr_list.append(str(round(data[data.customer_age == c].vehicle_financing.mean(),2)))\n",
    "fr_list\n",
    "ppf_df = pd.DataFrame(list(zip(ca_list, fr_list)), \n",
    "            columns =['customer_age', 'financing_usage']).append({'customer_age': 'All','financing_usage':str(round(data.vehicle_financing.mean(),2))}, ignore_index=True).sort_values(by = 'financing_usage', ascending = False).dropna().reset_index(drop=True)\n",
    "ppf_df"
   ]
  },
  {
   "cell_type": "markdown",
   "metadata": {},
   "source": [
    "The age brackets between 21-50 all sit above the average finance usage rate of 78%. The remaining age brackets all have a finance usage rate below 78%, with each bracket above 71 years old sitting at 60% or lower. "
   ]
  },
  {
   "cell_type": "markdown",
   "metadata": {},
   "source": [
    "#### Relationship Between 'trade_in' and 'vehicle_financing' \n",
    "\n",
    "As shown below, there is little difference between vehicle financing rates when a purchaser traded in their vehicle."
   ]
  },
  {
   "cell_type": "code",
   "execution_count": 38,
   "metadata": {},
   "outputs": [
    {
     "data": {
      "text/html": [
       "<div>\n",
       "<style scoped>\n",
       "    .dataframe tbody tr th:only-of-type {\n",
       "        vertical-align: middle;\n",
       "    }\n",
       "\n",
       "    .dataframe tbody tr th {\n",
       "        vertical-align: top;\n",
       "    }\n",
       "\n",
       "    .dataframe thead th {\n",
       "        text-align: right;\n",
       "    }\n",
       "</style>\n",
       "<table border=\"1\" class=\"dataframe\">\n",
       "  <thead>\n",
       "    <tr style=\"text-align: right;\">\n",
       "      <th></th>\n",
       "      <th>trade_in</th>\n",
       "      <th>financing_usage</th>\n",
       "    </tr>\n",
       "  </thead>\n",
       "  <tbody>\n",
       "    <tr>\n",
       "      <th>0</th>\n",
       "      <td>1</td>\n",
       "      <td>0.79</td>\n",
       "    </tr>\n",
       "    <tr>\n",
       "      <th>1</th>\n",
       "      <td>All</td>\n",
       "      <td>0.78</td>\n",
       "    </tr>\n",
       "    <tr>\n",
       "      <th>2</th>\n",
       "      <td>0</td>\n",
       "      <td>0.77</td>\n",
       "    </tr>\n",
       "  </tbody>\n",
       "</table>\n",
       "</div>"
      ],
      "text/plain": [
       "  trade_in financing_usage\n",
       "0        1            0.79\n",
       "1      All            0.78\n",
       "2        0            0.77"
      ]
     },
     "execution_count": 38,
     "metadata": {},
     "output_type": "execute_result"
    }
   ],
   "source": [
    "p_prices = list(data.trade_in.unique())\n",
    "fr_list = []\n",
    "for p in p_prices:\n",
    "    fr_list.append(str(round(data[data.trade_in == p].vehicle_financing.mean(),2)))\n",
    "fr_list\n",
    "ppf_df = pd.DataFrame(list(zip(p_prices, fr_list)), \n",
    "            columns =['trade_in', 'financing_usage']).append({'trade_in': 'All','financing_usage':str(round(data.vehicle_financing.mean(),2))}, ignore_index=True).sort_values(by = 'financing_usage', ascending = False).dropna().reset_index(drop=True)\n",
    "ppf_df"
   ]
  },
  {
   "cell_type": "markdown",
   "metadata": {},
   "source": [
    "#### Vehicle Financing Analysis Summary\n",
    "\n",
    "Below is a summary regarding which segments of buyers were more likely to have financed their vehicle.\n",
    "\n",
    "* A customer's income showed little correlation with whether they financed a vehicle, save the '\\\\$0 - \\\\$20,000' income bracket that financed at a considerably lower rate.\n",
    "* Women were 5% more likely to use financing than men.\n",
    "* Buyers between the ages of 21 and 50 used financing at above average rates, while buyers above 70 used financing at below average rates.\n",
    "* Whether a customer traded in a vehicle had little effect on if they financed their vehicle.\n",
    "* Purchasers whose income wasn't listed were much less likely to have financed their purchase."
   ]
  },
  {
   "cell_type": "markdown",
   "metadata": {},
   "source": [
    "### Warranty Usage Trends"
   ]
  },
  {
   "cell_type": "markdown",
   "metadata": {},
   "source": [
    "Next, let's better understand what types of customers utilize the vehicle warranty and on what types of vehicles they were used.\n",
    "\n",
    "First, we'll create a modified version of the original dataset optimized for this analysis."
   ]
  },
  {
   "cell_type": "code",
   "execution_count": 39,
   "metadata": {},
   "outputs": [],
   "source": [
    "# Creating an optimized dataset for this section\n",
    "data_w = data.drop(['insert_num','post_purchase_satisfaction'],axis=1).dropna(subset = ['customer_distance_to_dealer','customer_age','customer_income','customer_gender','purchase_price'])"
   ]
  },
  {
   "cell_type": "markdown",
   "metadata": {},
   "source": [
    "Shown below are the average for several variable responses, along with their averages when the warranty was and wasn't used."
   ]
  },
  {
   "cell_type": "markdown",
   "metadata": {},
   "source": [
    "#### Purchase Vehicle Year v Warranty Used"
   ]
  },
  {
   "cell_type": "code",
   "execution_count": 40,
   "metadata": {},
   "outputs": [
    {
     "name": "stdout",
     "output_type": "stream",
     "text": [
      "Average Purchase Vehicle Year: 2009.53\n",
      "Average Purchase Vehicle Year (warranty used): 2008.72\n",
      "Average Purchase Vehicle Year (warranty not used): 2009.8\n",
      "There is a statistically significant difference between the two population means.\n"
     ]
    }
   ],
   "source": [
    "print('Average Purchase Vehicle Year: ' + str(round(data.purchase_vehicle_year.mean(),2)))\n",
    "print('Average Purchase Vehicle Year (warranty used): ' + str(round(data[data.vehicle_warranty_used == 1].purchase_vehicle_year.mean(),2)))\n",
    "print('Average Purchase Vehicle Year (warranty not used): ' + str(round(data[data.vehicle_warranty_used == 0].purchase_vehicle_year.mean(),2)))\n",
    "t_test(data[data.vehicle_warranty_used == 0].purchase_vehicle_year,data[data.vehicle_warranty_used == 1].purchase_vehicle_year)"
   ]
  },
  {
   "cell_type": "markdown",
   "metadata": {},
   "source": [
    "#### Purchase Price v Warranty Used"
   ]
  },
  {
   "cell_type": "code",
   "execution_count": 41,
   "metadata": {},
   "outputs": [
    {
     "name": "stdout",
     "output_type": "stream",
     "text": [
      "Average Purchase Price: $19144\n",
      "Average Purchase Price (warranty used): $18519\n",
      "Average Purchase Price (warranty not used): $19360\n",
      "There is a statistically significant difference between the two population means.\n"
     ]
    }
   ],
   "source": [
    "print('Average Purchase Price: $' + str(int(round(data_w.purchase_price.apply(cell_avg).mean()))))\n",
    "print('Average Purchase Price (warranty used): $' + str(int(round(data_w[data_w.vehicle_warranty_used == 1].purchase_price.apply(cell_avg).mean()))))\n",
    "print('Average Purchase Price (warranty not used): $' + str(int(round(data_w[data_w.vehicle_warranty_used == 0].purchase_price.apply(cell_avg).mean()))))\n",
    "t_test(data_w[data_w.vehicle_warranty_used == 0].purchase_price.apply(cell_avg),data_w[data_w.vehicle_warranty_used == 1].purchase_price.apply(cell_avg))"
   ]
  },
  {
   "cell_type": "markdown",
   "metadata": {},
   "source": [
    "#### Customer Income v Warranty Used"
   ]
  },
  {
   "cell_type": "code",
   "execution_count": 42,
   "metadata": {},
   "outputs": [
    {
     "name": "stdout",
     "output_type": "stream",
     "text": [
      "Average Customer Income : $62932\n",
      "Average Customer Income (warranty used): $61353\n",
      "Average Customer Income (warranty not used): $63477\n",
      "There is a statistically significant difference between the two population means.\n"
     ]
    }
   ],
   "source": [
    "print('Average Customer Income : $' + str(int(round(data_w.customer_income.apply(cell_avg).mean()))))\n",
    "print('Average Customer Income (warranty used): $' + str(int(round(data_w[data_w.vehicle_warranty_used == 1].customer_income.apply(cell_avg).mean()))))\n",
    "print('Average Customer Income (warranty not used): $' + str(int(round(data_w[data_w.vehicle_warranty_used == 0].customer_income.apply(cell_avg).mean()))))\n",
    "t_test(data_w[data_w.vehicle_warranty_used == 0].customer_income.apply(cell_avg),data_w[data_w.vehicle_warranty_used == 1].customer_income.apply(cell_avg))"
   ]
  },
  {
   "cell_type": "markdown",
   "metadata": {},
   "source": [
    "#### Customer Age v Warranty Used"
   ]
  },
  {
   "cell_type": "code",
   "execution_count": 43,
   "metadata": {},
   "outputs": [
    {
     "name": "stdout",
     "output_type": "stream",
     "text": [
      "Average Customer Age : 40.92\n",
      "Average Customer Age (warranty used) : 41.0\n",
      "Average Customer Age (warranty not used): 40.89\n",
      "There is not a statistically significant difference between the two population means.\n"
     ]
    }
   ],
   "source": [
    "print('Average Customer Age : ' + str(round(data_w.customer_age.apply(cell_avg).mean(),2)))\n",
    "print('Average Customer Age (warranty used) : ' + str(round(data_w[data_w.vehicle_warranty_used == 1].customer_age.apply(cell_avg).mean(),2)))\n",
    "print('Average Customer Age (warranty not used): ' + str(round(data_w[data_w.vehicle_warranty_used == 0].customer_age.apply(cell_avg).mean(),2)))\n",
    "t_test(data_w[data_w.vehicle_warranty_used == 0].customer_age.apply(cell_avg),data_w[data_w.vehicle_warranty_used == 1].customer_age.apply(cell_avg))"
   ]
  },
  {
   "cell_type": "markdown",
   "metadata": {},
   "source": [
    "#### Warranty Usage Summary\n",
    "\n",
    "Warranties were more likely to be used on older vehicles with a lower purchase price, and by customers with a lower income. These trends aren't drastic, but they are statistically significant relationships in the data."
   ]
  },
  {
   "cell_type": "markdown",
   "metadata": {},
   "source": [
    "### Predicting a Customer's Purchase Price"
   ]
  },
  {
   "cell_type": "markdown",
   "metadata": {},
   "source": [
    "The next question we'd like to answer is: Can we predict a customer's purchase price based on their income, age, and gender?\n",
    "\n",
    "The short answer: yes, but not very accurately.\n",
    "\n",
    "The reason for this is we have too little demographic data to predict on with a large range of predictions, namely, the purchase price categories. For example, the most common purchase price for buyers between the ages of 41-50 is \\\\$15,001-\\\\$20,000, though it only accounts for 33% of the purchases for this age group. However, this doesn't mean building a model to predict a customer's purchase price is trivial, as it can provide marketers with a reasonable start point when estimating a buyer's purchase price.\n",
    "\n",
    "Let's build such a model and discuss the findings below. We'll start by trimming the dataset to focus in on the purchase price, customer age, customer income, and customer gender for each transaction."
   ]
  },
  {
   "cell_type": "markdown",
   "metadata": {},
   "source": [
    "#### Cleaning The Data\n",
    "\n",
    "To prepare the data for analysis, it'll be easier if the ranges of values are represented by a single integer. We'll set each value range to the average of those two values, and any single value used in a category to that same value (the corresponding range-value pairs can be found in the appendix.) \n",
    "\n",
    "For example, ages 51-60 will be replaced by 55, and the income range \\\\$15,001-\\\\$20,000 will be replaced by \\\\$17,500.\n",
    "\n",
    "Below are the first five rows of the cleaned data set."
   ]
  },
  {
   "cell_type": "code",
   "execution_count": 44,
   "metadata": {},
   "outputs": [
    {
     "data": {
      "text/html": [
       "<div>\n",
       "<style scoped>\n",
       "    .dataframe tbody tr th:only-of-type {\n",
       "        vertical-align: middle;\n",
       "    }\n",
       "\n",
       "    .dataframe tbody tr th {\n",
       "        vertical-align: top;\n",
       "    }\n",
       "\n",
       "    .dataframe thead th {\n",
       "        text-align: right;\n",
       "    }\n",
       "</style>\n",
       "<table border=\"1\" class=\"dataframe\">\n",
       "  <thead>\n",
       "    <tr style=\"text-align: right;\">\n",
       "      <th></th>\n",
       "      <th>purchase_price</th>\n",
       "      <th>customer_age</th>\n",
       "      <th>customer_income</th>\n",
       "      <th>customer_gender</th>\n",
       "    </tr>\n",
       "  </thead>\n",
       "  <tbody>\n",
       "    <tr>\n",
       "      <th>1</th>\n",
       "      <td>17500</td>\n",
       "      <td>55</td>\n",
       "      <td>10000</td>\n",
       "      <td>0</td>\n",
       "    </tr>\n",
       "    <tr>\n",
       "      <th>2</th>\n",
       "      <td>27500</td>\n",
       "      <td>45</td>\n",
       "      <td>70000</td>\n",
       "      <td>0</td>\n",
       "    </tr>\n",
       "    <tr>\n",
       "      <th>3</th>\n",
       "      <td>12500</td>\n",
       "      <td>25</td>\n",
       "      <td>30000</td>\n",
       "      <td>1</td>\n",
       "    </tr>\n",
       "    <tr>\n",
       "      <th>4</th>\n",
       "      <td>17500</td>\n",
       "      <td>35</td>\n",
       "      <td>130000</td>\n",
       "      <td>1</td>\n",
       "    </tr>\n",
       "    <tr>\n",
       "      <th>6</th>\n",
       "      <td>22500</td>\n",
       "      <td>25</td>\n",
       "      <td>30000</td>\n",
       "      <td>1</td>\n",
       "    </tr>\n",
       "  </tbody>\n",
       "</table>\n",
       "</div>"
      ],
      "text/plain": [
       "   purchase_price  customer_age  customer_income  customer_gender\n",
       "1           17500            55            10000                0\n",
       "2           27500            45            70000                0\n",
       "3           12500            25            30000                1\n",
       "4           17500            35           130000                1\n",
       "6           22500            25            30000                1"
      ]
     },
     "execution_count": 44,
     "metadata": {},
     "output_type": "execute_result"
    }
   ],
   "source": [
    "data_sv = data.drop(['insert_num','post_purchase_satisfaction','purchase_make','purchase_model'],axis=1)\n",
    "data_sv = data_sv.dropna(subset = ['customer_distance_to_dealer','customer_age','customer_income','customer_gender','purchase_price'])\n",
    "data_sv.customer_distance_to_dealer = data_sv.customer_distance_to_dealer.astype(int)\n",
    "data_sv.customer_gender = data_sv.customer_gender.map({'F':0,'M':1})\n",
    "data_sv['purchase_price'] = data_sv['purchase_price'].apply(cell_avg)\n",
    "data_sv['customer_age'] = data_sv['customer_age'].apply(cell_avg)\n",
    "data_sv['customer_income'] = data_sv['customer_income'].apply(cell_avg)\n",
    "data_slim = data_sv[['purchase_price','customer_age','customer_income','customer_gender']]\n",
    "data_slim.head(5)"
   ]
  },
  {
   "cell_type": "markdown",
   "metadata": {},
   "source": [
    "Next, we'll build a classification model to predict (i.e. classify) what a customer's purchase price will be based off their age, income, and gender. We'll do so using a technique called [Naive Bayes Classification](https://en.wikipedia.org/wiki/Naive_Bayes_classifier)."
   ]
  },
  {
   "cell_type": "code",
   "execution_count": 45,
   "metadata": {},
   "outputs": [],
   "source": [
    "from sklearn.model_selection import train_test_split"
   ]
  },
  {
   "cell_type": "code",
   "execution_count": 46,
   "metadata": {},
   "outputs": [
    {
     "name": "stdout",
     "output_type": "stream",
     "text": [
      "Model Accuracy: 0.3634958816240251\n"
     ]
    }
   ],
   "source": [
    "# Creating the training and response datasets\n",
    "X = data_slim[['customer_age','customer_income','customer_gender']]\n",
    "y = data_slim[['purchase_price']].values.ravel()\n",
    "\n",
    "# Creating training/testing datasets\n",
    "X_train, X_test, y_train, y_test = train_test_split(X, y)\n",
    "\n",
    "# Creating the Naive Bayes MOdel\n",
    "cnb = CategoricalNB()\n",
    "\n",
    "# Training the model \n",
    "cnb.fit(X_train, y_train)\n",
    "\n",
    "# Predict the response for test dataset\n",
    "y_pred = cnb.predict(X_test)\n",
    "\n",
    "# Accuracy\n",
    "print(\"Model Accuracy:\",metrics.accuracy_score(y_test, y_pred))"
   ]
  },
  {
   "cell_type": "markdown",
   "metadata": {},
   "source": [
    "As shown above, the accuracy for this model is 36%. This performance isn't great, but as mentioned above, it could provide a starting point for marketers and salespeople when predicting a customer's purchase price. Further, this model could be improved with additional information about a customer, such as their profession, the value of their trade-in, and the value of any previous purchases.\n",
    "\n",
    "Let's apply this model to a few subsets of the possible combinations for age, income, and gender. There are 220 combinations with the categories given in the data set.  "
   ]
  },
  {
   "cell_type": "code",
   "execution_count": 47,
   "metadata": {},
   "outputs": [
    {
     "name": "stdout",
     "output_type": "stream",
     "text": [
      "Three Model Recommendations:\n",
      "\n",
      "Age: 41-49  Income: $40,001 - $60,000   Gender: Female | Predicted Purchase Price: 15001 - 20000\n",
      "Age: 21-29  Income: $0 - $20,000        Gender: Male   | Predicted Purchase Price: 10001 - 15000\n",
      "Age: 51-59  Income: $80,001 - $100,000  Gender: Female | Predicted Purchase Price: 15001 - 20000\n",
      "\n"
     ]
    }
   ],
   "source": [
    "# Creating list of all possible combinations of age, income, and gender\n",
    "age_income_gender_iters = list(itertools.product(list(data_slim.customer_age.unique()), list(data_slim.customer_income.unique()),list(data_slim.customer_gender.unique())))\n",
    "age_income_gender_iters = [i for i in age_income_gender_iters if np.nan not in i]\n",
    "# Finding how many combinations there are\n",
    "len(age_income_gender_iters); # 220\n",
    "# Choosing 3 combinations and predicting on them\n",
    "age_income_gender_iters[36] #(45, 50000, 0)\n",
    "cnb.predict(np.asarray(age_income_gender_iters[36]).reshape(1, -1))[0]  # 17500\n",
    "age_income_gender_iters[45] #(25, 10000, 1)\n",
    "cnb.predict(np.asarray(age_income_gender_iters[45]).reshape(1, -1))[0] # 12500\n",
    "age_income_gender_iters[8] # (55, 90000, 0)\n",
    "cnb.predict(np.asarray(age_income_gender_iters[8]).reshape(1, -1))[0]; # 17500\n",
    "print('Three Model Recommendations:')\n",
    "print('')\n",
    "print('Age: 41-49  Income: $40,001 - $60,000   Gender: Female | Predicted Purchase Price: 15001 - 20000')\n",
    "print('Age: 21-29  Income: $0 - $20,000        Gender: Male   | Predicted Purchase Price: 10001 - 15000' )\n",
    "print('Age: 51-59  Income: $80,001 - $100,000  Gender: Female | Predicted Purchase Price: 15001 - 20000' )\n",
    "print('')"
   ]
  },
  {
   "cell_type": "markdown",
   "metadata": {},
   "source": [
    "\n",
    "For all but one combination, the recommended purchase price is between 10,001 and 20,000, with around half the recommendations split between the 10,000 - 15,000 and 15,001 - 20,000 ranges. \n",
    "\n",
    "A similar approach could be used to recommend a year/make/model to a customer based on their income, age, and gender. This model won't be highly 'accurate' due to the large number of possible car recommendations, but it could improved with additional demographic data, as well as a customer's car preferences (body style, price range, etc.).\n",
    "\n",
    "Let's build such a model and see what it recommends for the three individuals above. First, we'll create a new dataset optimized for training the model."
   ]
  },
  {
   "cell_type": "code",
   "execution_count": 48,
   "metadata": {},
   "outputs": [],
   "source": [
    "# New dataset with the cars year/make/model\n",
    "data_pm = data.drop(['insert_num','post_purchase_satisfaction'],axis=1)\n",
    "data_pm = data_pm.dropna(subset = ['customer_distance_to_dealer','customer_age','customer_income','customer_gender','purchase_price'])\n",
    "data_pm.customer_distance_to_dealer = data_pm.customer_distance_to_dealer.astype(int)\n",
    "data_pm.customer_gender = data_pm.customer_gender.map({'F':0,'M':1})\n",
    "# Limiting to 2010+ models to reduce memory cost for building this model (~46% of the data)\n",
    "data_pm = data_pm[data_pm.purchase_vehicle_year  > 2008].reset_index(drop=True)\n",
    "data_pm['purchase_price'] = data_pm['purchase_price'].apply(cell_avg)\n",
    "data_pm['customer_age'] = data_pm['customer_age'].apply(cell_avg)\n",
    "data_pm['customer_income'] = data_pm['customer_income'].apply(cell_avg)\n",
    "data_pm['year_make_model'] = data_pm['purchase_vehicle_year'].astype(str) + ' ' + data_pm['purchase_make'] + ' ' + data_pm['purchase_model'] \n",
    "data_pm_slim = data_pm[['year_make_model','customer_income','customer_age','customer_gender','purchase_price']]"
   ]
  },
  {
   "cell_type": "markdown",
   "metadata": {},
   "source": [
    "We'll then use a Naive Bayes classifier to predict the car's year/make/model from the customer's age, income, gender, and purchase price."
   ]
  },
  {
   "cell_type": "code",
   "execution_count": 49,
   "metadata": {},
   "outputs": [],
   "source": [
    "# Creating the training and response datasets\n",
    "X = data_pm_slim[['customer_age','customer_income','customer_gender','purchase_price']]\n",
    "y = data_pm_slim[['year_make_model']].values.ravel()\n",
    "\n",
    "# Creating the Naive Bayes MOdel\n",
    "cnb2 = CategoricalNB()\n",
    "\n",
    "# Training the model \n",
    "cnb2.fit(X, y)\n",
    "\n",
    "# Predict the response for test dataset\n",
    "y_pred = cnb2.predict(X)"
   ]
  },
  {
   "cell_type": "markdown",
   "metadata": {},
   "source": [
    "Below are examples of three vehicle recommendations."
   ]
  },
  {
   "cell_type": "code",
   "execution_count": 50,
   "metadata": {},
   "outputs": [
    {
     "name": "stdout",
     "output_type": "stream",
     "text": [
      "Model Recommendations:\n",
      "\n",
      "Age: 41-49  Income: $40,001 - $60,000   Gender: Female  Purchase Price: 15001 - 20000 | Suggested car: 2010 NISSAN ALTIMA\n",
      "\n",
      "Age: 21-29  Income: $0 - $20,000        Gender: Male    Purchase Price: 10001 - 15000 | Suggested car: 2012 CHEVROLET MALIBU\n",
      "\n",
      "Age: 51-59  Income: $80,001 - $100,000  Gender: Female  Purchase Price: 15001 - 20000 | Suggested car: 2010 NISSAN ALTIMA\n"
     ]
    }
   ],
   "source": [
    "print('Model Recommendations:')\n",
    "print('')\n",
    "print('Age: 41-49  Income: $40,001 - $60,000   Gender: Female  Purchase Price: 15001 - 20000 | Suggested car: '+ cnb2.predict(np.array([45,50000,0,17500]).reshape(1, -1))[0])\n",
    "print('')\n",
    "print('Age: 21-29  Income: $0 - $20,000        Gender: Male    Purchase Price: 10001 - 15000 | Suggested car: '+ cnb2.predict(np.array([25,1000,1,12500]).reshape(1, -1))[0])\n",
    "print('')\n",
    "print('Age: 51-59  Income: $80,001 - $100,000  Gender: Female  Purchase Price: 15001 - 20000 | Suggested car: '+ cnb2.predict(np.array([55,90000,0,17500]).reshape(1, -1))[0])"
   ]
  },
  {
   "cell_type": "markdown",
   "metadata": {},
   "source": [
    "## 3. Creating Consumer Segments"
   ]
  },
  {
   "cell_type": "markdown",
   "metadata": {},
   "source": [
    "In this section, we'll create distinct groups of purchases using a technique called [k-means clustering](https://en.wikipedia.org/wiki/K-means_clustering). The k-means clustering algorithm will create k clusters of purchases that are most similar to one another. This approach doesn't provide the model with any 'labels' to predict for; rather, it will group the data on variables it deems important (i.e. that help segment the data).\n",
    "\n",
    "First, we'll copy the original dataset and optimize it for clustering."
   ]
  },
  {
   "cell_type": "code",
   "execution_count": 51,
   "metadata": {},
   "outputs": [],
   "source": [
    "# Scaling the data\n",
    "data_scaled  = data[['purchase_price','trade_in','vehicle_financing','customer_age','customer_income','customer_gender','customer_previous_purchase','customer_distance_to_dealer','vehicle_warranty_used','subsequent_purchases']]\n",
    "data_scaled = data_scaled.dropna(subset = ['customer_distance_to_dealer','customer_age','customer_income','customer_gender','purchase_price'])\n",
    "data_scaled['customer_income'] = data_scaled['customer_income'].apply(cell_avg)\n",
    "data_scaled['customer_age'] = data_scaled['customer_age'].apply(cell_avg)\n",
    "data_scaled['purchase_price'] = data_scaled['purchase_price'].apply(cell_avg)\n",
    "data_scaled.customer_gender = data_scaled.customer_gender.map({'F':0,'M':1})\n",
    "ds_cols = data_scaled.columns\n",
    "\n",
    "scaler = StandardScaler()\n",
    "scaler.fit(data_scaled)\n",
    "data_scaled = scaler.transform(data_scaled)\n",
    "data_scaled =pd.DataFrame(data_scaled, columns = ds_cols)"
   ]
  },
  {
   "cell_type": "markdown",
   "metadata": {},
   "source": [
    "Next, we need to determine how many clusters we'd like to use. We'll use a clustering technique called the [elbow method](https://en.wikipedia.org/wiki/Elbow_method_(clustering)) to determine the 'right' number of clusters. To implement this, we'll run the k-means algorithm with cluster sizes between 3 and 14, looking for when there are 'diminishing returns' in the amount of similarity across clusters. \n",
    "\n",
    "This technique is called the elbow method because when you plot the number of clusters against the [sum of squared distances of samples to their closest cluster center](https://discuss.analyticsvidhya.com/t/what-is-within-cluster-sum-of-squares-by-cluster-in-k-means/2706), the 'elbow' in the graph is a good hueristic for how many clusters to use."
   ]
  },
  {
   "cell_type": "code",
   "execution_count": 52,
   "metadata": {},
   "outputs": [],
   "source": [
    "km_scores = []\n",
    "for i in range(3,15): # Looping through different k values and appendidng their 'inertia' (wcss) to a list\n",
    "    kmeans = KMeans(n_clusters = i)\n",
    "    kmeans.fit(data_scaled)\n",
    "    km_scores.append(kmeans.inertia_)"
   ]
  },
  {
   "cell_type": "code",
   "execution_count": 53,
   "metadata": {},
   "outputs": [
    {
     "data": {
      "text/plain": [
       "[<matplotlib.lines.Line2D at 0x1281a38e0>]"
      ]
     },
     "execution_count": 53,
     "metadata": {},
     "output_type": "execute_result"
    },
    {
     "data": {
      "image/png": "[encoded data removed]",
      "text/plain": [
       "<Figure size 432x288 with 1 Axes>"
      ]
     },
     "metadata": {
      "needs_background": "light"
     },
     "output_type": "display_data"
    }
   ],
   "source": [
    "plt.plot(range(3,15),km_scores, 'bx-') # Plotting the looped k-values against their k-means wcss"
   ]
  },
  {
   "cell_type": "markdown",
   "metadata": {},
   "source": [
    "According to the plot above, 7 appears to be a reasonable value for the number of clusters (though we could easily use more or less)\n",
    "\n",
    "With the number of clusters decided, let's fit our final k-means clustering model."
   ]
  },
  {
   "cell_type": "code",
   "execution_count": 54,
   "metadata": {},
   "outputs": [],
   "source": [
    "kmeans = KMeans(n_clusters = 7)\n",
    "kmeans.fit(data_scaled);"
   ]
  },
  {
   "cell_type": "markdown",
   "metadata": {},
   "source": [
    "With the model built, let's see what clusters it assigned to each data point. The rightmost column, labeled 'Cluster', now contains the cluster (0 through 6) assigned by the k-means algorithm."
   ]
  },
  {
   "cell_type": "code",
   "execution_count": 55,
   "metadata": {},
   "outputs": [
    {
     "data": {
      "text/html": [
       "<div>\n",
       "<style scoped>\n",
       "    .dataframe tbody tr th:only-of-type {\n",
       "        vertical-align: middle;\n",
       "    }\n",
       "\n",
       "    .dataframe tbody tr th {\n",
       "        vertical-align: top;\n",
       "    }\n",
       "\n",
       "    .dataframe thead th {\n",
       "        text-align: right;\n",
       "    }\n",
       "</style>\n",
       "<table border=\"1\" class=\"dataframe\">\n",
       "  <thead>\n",
       "    <tr style=\"text-align: right;\">\n",
       "      <th></th>\n",
       "      <th>purchase_price</th>\n",
       "      <th>trade_in</th>\n",
       "      <th>vehicle_financing</th>\n",
       "      <th>customer_age</th>\n",
       "      <th>customer_income</th>\n",
       "      <th>customer_gender</th>\n",
       "      <th>customer_previous_purchase</th>\n",
       "      <th>customer_distance_to_dealer</th>\n",
       "      <th>vehicle_warranty_used</th>\n",
       "      <th>subsequent_purchases</th>\n",
       "      <th>Cluster</th>\n",
       "    </tr>\n",
       "  </thead>\n",
       "  <tbody>\n",
       "    <tr>\n",
       "      <th>0</th>\n",
       "      <td>17500.0</td>\n",
       "      <td>0.0</td>\n",
       "      <td>0.0</td>\n",
       "      <td>55.0</td>\n",
       "      <td>10000.0</td>\n",
       "      <td>0.0</td>\n",
       "      <td>1.0</td>\n",
       "      <td>19.0</td>\n",
       "      <td>0.0</td>\n",
       "      <td>0.0</td>\n",
       "      <td>6</td>\n",
       "    </tr>\n",
       "    <tr>\n",
       "      <th>1</th>\n",
       "      <td>27500.0</td>\n",
       "      <td>1.0</td>\n",
       "      <td>1.0</td>\n",
       "      <td>45.0</td>\n",
       "      <td>70000.0</td>\n",
       "      <td>0.0</td>\n",
       "      <td>1.0</td>\n",
       "      <td>21.0</td>\n",
       "      <td>0.0</td>\n",
       "      <td>0.0</td>\n",
       "      <td>4</td>\n",
       "    </tr>\n",
       "    <tr>\n",
       "      <th>2</th>\n",
       "      <td>12500.0</td>\n",
       "      <td>0.0</td>\n",
       "      <td>1.0</td>\n",
       "      <td>25.0</td>\n",
       "      <td>30000.0</td>\n",
       "      <td>1.0</td>\n",
       "      <td>0.0</td>\n",
       "      <td>8.0</td>\n",
       "      <td>0.0</td>\n",
       "      <td>0.0</td>\n",
       "      <td>2</td>\n",
       "    </tr>\n",
       "    <tr>\n",
       "      <th>3</th>\n",
       "      <td>17500.0</td>\n",
       "      <td>1.0</td>\n",
       "      <td>1.0</td>\n",
       "      <td>35.0</td>\n",
       "      <td>130000.0</td>\n",
       "      <td>1.0</td>\n",
       "      <td>1.0</td>\n",
       "      <td>5.0</td>\n",
       "      <td>1.0</td>\n",
       "      <td>1.0</td>\n",
       "      <td>4</td>\n",
       "    </tr>\n",
       "    <tr>\n",
       "      <th>4</th>\n",
       "      <td>22500.0</td>\n",
       "      <td>0.0</td>\n",
       "      <td>1.0</td>\n",
       "      <td>25.0</td>\n",
       "      <td>30000.0</td>\n",
       "      <td>1.0</td>\n",
       "      <td>0.0</td>\n",
       "      <td>8.0</td>\n",
       "      <td>0.0</td>\n",
       "      <td>1.0</td>\n",
       "      <td>2</td>\n",
       "    </tr>\n",
       "    <tr>\n",
       "      <th>...</th>\n",
       "      <td>...</td>\n",
       "      <td>...</td>\n",
       "      <td>...</td>\n",
       "      <td>...</td>\n",
       "      <td>...</td>\n",
       "      <td>...</td>\n",
       "      <td>...</td>\n",
       "      <td>...</td>\n",
       "      <td>...</td>\n",
       "      <td>...</td>\n",
       "      <td>...</td>\n",
       "    </tr>\n",
       "    <tr>\n",
       "      <th>274374</th>\n",
       "      <td>22500.0</td>\n",
       "      <td>1.0</td>\n",
       "      <td>1.0</td>\n",
       "      <td>55.0</td>\n",
       "      <td>50000.0</td>\n",
       "      <td>0.0</td>\n",
       "      <td>1.0</td>\n",
       "      <td>3.0</td>\n",
       "      <td>0.0</td>\n",
       "      <td>0.0</td>\n",
       "      <td>4</td>\n",
       "    </tr>\n",
       "    <tr>\n",
       "      <th>274375</th>\n",
       "      <td>37500.0</td>\n",
       "      <td>0.0</td>\n",
       "      <td>1.0</td>\n",
       "      <td>45.0</td>\n",
       "      <td>110000.0</td>\n",
       "      <td>1.0</td>\n",
       "      <td>0.0</td>\n",
       "      <td>14.0</td>\n",
       "      <td>0.0</td>\n",
       "      <td>4.0</td>\n",
       "      <td>3</td>\n",
       "    </tr>\n",
       "    <tr>\n",
       "      <th>274376</th>\n",
       "      <td>17500.0</td>\n",
       "      <td>0.0</td>\n",
       "      <td>1.0</td>\n",
       "      <td>25.0</td>\n",
       "      <td>30000.0</td>\n",
       "      <td>0.0</td>\n",
       "      <td>0.0</td>\n",
       "      <td>13.0</td>\n",
       "      <td>0.0</td>\n",
       "      <td>0.0</td>\n",
       "      <td>2</td>\n",
       "    </tr>\n",
       "    <tr>\n",
       "      <th>274377</th>\n",
       "      <td>17500.0</td>\n",
       "      <td>1.0</td>\n",
       "      <td>1.0</td>\n",
       "      <td>65.0</td>\n",
       "      <td>30000.0</td>\n",
       "      <td>0.0</td>\n",
       "      <td>1.0</td>\n",
       "      <td>9.0</td>\n",
       "      <td>0.0</td>\n",
       "      <td>1.0</td>\n",
       "      <td>4</td>\n",
       "    </tr>\n",
       "    <tr>\n",
       "      <th>274378</th>\n",
       "      <td>12500.0</td>\n",
       "      <td>0.0</td>\n",
       "      <td>1.0</td>\n",
       "      <td>25.0</td>\n",
       "      <td>50000.0</td>\n",
       "      <td>1.0</td>\n",
       "      <td>0.0</td>\n",
       "      <td>5.0</td>\n",
       "      <td>0.0</td>\n",
       "      <td>0.0</td>\n",
       "      <td>2</td>\n",
       "    </tr>\n",
       "  </tbody>\n",
       "</table>\n",
       "<p>274379 rows × 11 columns</p>\n",
       "</div>"
      ],
      "text/plain": [
       "        purchase_price  trade_in  vehicle_financing  customer_age  \\\n",
       "0              17500.0       0.0                0.0          55.0   \n",
       "1              27500.0       1.0                1.0          45.0   \n",
       "2              12500.0       0.0                1.0          25.0   \n",
       "3              17500.0       1.0                1.0          35.0   \n",
       "4              22500.0       0.0                1.0          25.0   \n",
       "...                ...       ...                ...           ...   \n",
       "274374         22500.0       1.0                1.0          55.0   \n",
       "274375         37500.0       0.0                1.0          45.0   \n",
       "274376         17500.0       0.0                1.0          25.0   \n",
       "274377         17500.0       1.0                1.0          65.0   \n",
       "274378         12500.0       0.0                1.0          25.0   \n",
       "\n",
       "        customer_income  customer_gender  customer_previous_purchase  \\\n",
       "0               10000.0              0.0                         1.0   \n",
       "1               70000.0              0.0                         1.0   \n",
       "2               30000.0              1.0                         0.0   \n",
       "3              130000.0              1.0                         1.0   \n",
       "4               30000.0              1.0                         0.0   \n",
       "...                 ...              ...                         ...   \n",
       "274374          50000.0              0.0                         1.0   \n",
       "274375         110000.0              1.0                         0.0   \n",
       "274376          30000.0              0.0                         0.0   \n",
       "274377          30000.0              0.0                         1.0   \n",
       "274378          50000.0              1.0                         0.0   \n",
       "\n",
       "        customer_distance_to_dealer  vehicle_warranty_used  \\\n",
       "0                              19.0                    0.0   \n",
       "1                              21.0                    0.0   \n",
       "2                               8.0                    0.0   \n",
       "3                               5.0                    1.0   \n",
       "4                               8.0                    0.0   \n",
       "...                             ...                    ...   \n",
       "274374                          3.0                    0.0   \n",
       "274375                         14.0                    0.0   \n",
       "274376                         13.0                    0.0   \n",
       "274377                          9.0                    0.0   \n",
       "274378                          5.0                    0.0   \n",
       "\n",
       "        subsequent_purchases  Cluster  \n",
       "0                        0.0        6  \n",
       "1                        0.0        4  \n",
       "2                        0.0        2  \n",
       "3                        1.0        4  \n",
       "4                        1.0        2  \n",
       "...                      ...      ...  \n",
       "274374                   0.0        4  \n",
       "274375                   4.0        3  \n",
       "274376                   0.0        2  \n",
       "274377                   1.0        4  \n",
       "274378                   0.0        2  \n",
       "\n",
       "[274379 rows x 11 columns]"
      ]
     },
     "execution_count": 55,
     "metadata": {},
     "output_type": "execute_result"
    }
   ],
   "source": [
    "data_clustered = pd.DataFrame(scaler.inverse_transform(data_scaled), columns = ds_cols).assign(Cluster =kmeans.labels_ )\n",
    "data_clustered.customer_previous_purchase = data_clustered.customer_previous_purchase.round()\n",
    "data_clustered"
   ]
  },
  {
   "cell_type": "markdown",
   "metadata": {},
   "source": [
    "Let's analyze each cluster and see on which characteristics the clusters were seperated. \n",
    "\n",
    "Below are the mean values for the responses in each cluster, along with the overall means to compare with. "
   ]
  },
  {
   "cell_type": "code",
   "execution_count": 56,
   "metadata": {},
   "outputs": [
    {
     "data": {
      "text/html": [
       "<div>\n",
       "<style scoped>\n",
       "    .dataframe tbody tr th:only-of-type {\n",
       "        vertical-align: middle;\n",
       "    }\n",
       "\n",
       "    .dataframe tbody tr th {\n",
       "        vertical-align: top;\n",
       "    }\n",
       "\n",
       "    .dataframe thead th {\n",
       "        text-align: right;\n",
       "    }\n",
       "</style>\n",
       "<table border=\"1\" class=\"dataframe\">\n",
       "  <thead>\n",
       "    <tr style=\"text-align: right;\">\n",
       "      <th></th>\n",
       "      <th>purchase_price</th>\n",
       "      <th>trade_in</th>\n",
       "      <th>vehicle_financing</th>\n",
       "      <th>customer_age</th>\n",
       "      <th>customer_income</th>\n",
       "      <th>customer_gender</th>\n",
       "      <th>customer_previous_purchase</th>\n",
       "      <th>customer_distance_to_dealer</th>\n",
       "      <th>vehicle_warranty_used</th>\n",
       "      <th>subsequent_purchases</th>\n",
       "    </tr>\n",
       "    <tr>\n",
       "      <th>Cluster</th>\n",
       "      <th></th>\n",
       "      <th></th>\n",
       "      <th></th>\n",
       "      <th></th>\n",
       "      <th></th>\n",
       "      <th></th>\n",
       "      <th></th>\n",
       "      <th></th>\n",
       "      <th></th>\n",
       "      <th></th>\n",
       "    </tr>\n",
       "  </thead>\n",
       "  <tbody>\n",
       "    <tr>\n",
       "      <th>0</th>\n",
       "      <td>18501.859386</td>\n",
       "      <td>1.000000</td>\n",
       "      <td>1.000000</td>\n",
       "      <td>40.070307</td>\n",
       "      <td>51102.192621</td>\n",
       "      <td>0.512896</td>\n",
       "      <td>0.000000</td>\n",
       "      <td>13.571458</td>\n",
       "      <td>0.000000</td>\n",
       "      <td>0.511994</td>\n",
       "    </tr>\n",
       "    <tr>\n",
       "      <th>1</th>\n",
       "      <td>17066.480883</td>\n",
       "      <td>0.445989</td>\n",
       "      <td>1.000000</td>\n",
       "      <td>39.753573</td>\n",
       "      <td>50482.749452</td>\n",
       "      <td>0.520700</td>\n",
       "      <td>0.000043</td>\n",
       "      <td>12.561992</td>\n",
       "      <td>1.000000</td>\n",
       "      <td>0.531457</td>\n",
       "    </tr>\n",
       "    <tr>\n",
       "      <th>2</th>\n",
       "      <td>16919.826498</td>\n",
       "      <td>0.000000</td>\n",
       "      <td>1.000000</td>\n",
       "      <td>38.857736</td>\n",
       "      <td>48636.555085</td>\n",
       "      <td>0.534707</td>\n",
       "      <td>0.000000</td>\n",
       "      <td>14.954344</td>\n",
       "      <td>0.000000</td>\n",
       "      <td>0.485277</td>\n",
       "    </tr>\n",
       "    <tr>\n",
       "      <th>3</th>\n",
       "      <td>29819.426436</td>\n",
       "      <td>0.608306</td>\n",
       "      <td>0.962245</td>\n",
       "      <td>44.838266</td>\n",
       "      <td>157549.360346</td>\n",
       "      <td>0.810655</td>\n",
       "      <td>0.302570</td>\n",
       "      <td>13.308405</td>\n",
       "      <td>0.190298</td>\n",
       "      <td>0.554801</td>\n",
       "    </tr>\n",
       "    <tr>\n",
       "      <th>4</th>\n",
       "      <td>19065.391061</td>\n",
       "      <td>0.617731</td>\n",
       "      <td>1.000000</td>\n",
       "      <td>43.992952</td>\n",
       "      <td>65280.642869</td>\n",
       "      <td>0.573793</td>\n",
       "      <td>1.000000</td>\n",
       "      <td>13.009825</td>\n",
       "      <td>0.266454</td>\n",
       "      <td>0.548128</td>\n",
       "    </tr>\n",
       "    <tr>\n",
       "      <th>5</th>\n",
       "      <td>20448.207171</td>\n",
       "      <td>0.569721</td>\n",
       "      <td>0.828685</td>\n",
       "      <td>34.302789</td>\n",
       "      <td>63386.478088</td>\n",
       "      <td>0.641434</td>\n",
       "      <td>0.187251</td>\n",
       "      <td>2045.195219</td>\n",
       "      <td>0.274900</td>\n",
       "      <td>0.529880</td>\n",
       "    </tr>\n",
       "    <tr>\n",
       "      <th>6</th>\n",
       "      <td>19728.648863</td>\n",
       "      <td>0.469262</td>\n",
       "      <td>0.000000</td>\n",
       "      <td>41.442292</td>\n",
       "      <td>52554.554964</td>\n",
       "      <td>0.614985</td>\n",
       "      <td>0.325952</td>\n",
       "      <td>14.197283</td>\n",
       "      <td>0.253570</td>\n",
       "      <td>0.570135</td>\n",
       "    </tr>\n",
       "    <tr>\n",
       "      <th>All</th>\n",
       "      <td>20221.405757</td>\n",
       "      <td>0.530144</td>\n",
       "      <td>0.827276</td>\n",
       "      <td>40.465416</td>\n",
       "      <td>69856.076204</td>\n",
       "      <td>0.601310</td>\n",
       "      <td>0.259402</td>\n",
       "      <td>303.828361</td>\n",
       "      <td>0.283603</td>\n",
       "      <td>0.533096</td>\n",
       "    </tr>\n",
       "  </tbody>\n",
       "</table>\n",
       "</div>"
      ],
      "text/plain": [
       "         purchase_price  trade_in  vehicle_financing  customer_age  \\\n",
       "Cluster                                                              \n",
       "0          18501.859386  1.000000           1.000000     40.070307   \n",
       "1          17066.480883  0.445989           1.000000     39.753573   \n",
       "2          16919.826498  0.000000           1.000000     38.857736   \n",
       "3          29819.426436  0.608306           0.962245     44.838266   \n",
       "4          19065.391061  0.617731           1.000000     43.992952   \n",
       "5          20448.207171  0.569721           0.828685     34.302789   \n",
       "6          19728.648863  0.469262           0.000000     41.442292   \n",
       "All        20221.405757  0.530144           0.827276     40.465416   \n",
       "\n",
       "         customer_income  customer_gender  customer_previous_purchase  \\\n",
       "Cluster                                                                 \n",
       "0           51102.192621         0.512896                    0.000000   \n",
       "1           50482.749452         0.520700                    0.000043   \n",
       "2           48636.555085         0.534707                    0.000000   \n",
       "3          157549.360346         0.810655                    0.302570   \n",
       "4           65280.642869         0.573793                    1.000000   \n",
       "5           63386.478088         0.641434                    0.187251   \n",
       "6           52554.554964         0.614985                    0.325952   \n",
       "All         69856.076204         0.601310                    0.259402   \n",
       "\n",
       "         customer_distance_to_dealer  vehicle_warranty_used  \\\n",
       "Cluster                                                       \n",
       "0                          13.571458               0.000000   \n",
       "1                          12.561992               1.000000   \n",
       "2                          14.954344               0.000000   \n",
       "3                          13.308405               0.190298   \n",
       "4                          13.009825               0.266454   \n",
       "5                        2045.195219               0.274900   \n",
       "6                          14.197283               0.253570   \n",
       "All                       303.828361               0.283603   \n",
       "\n",
       "         subsequent_purchases  \n",
       "Cluster                        \n",
       "0                    0.511994  \n",
       "1                    0.531457  \n",
       "2                    0.485277  \n",
       "3                    0.554801  \n",
       "4                    0.548128  \n",
       "5                    0.529880  \n",
       "6                    0.570135  \n",
       "All                  0.533096  "
      ]
     },
     "execution_count": 56,
     "metadata": {},
     "output_type": "execute_result"
    }
   ],
   "source": [
    "data_clustered.groupby('Cluster').mean().append(pd.Series(data_clustered.groupby('Cluster').mean().mean(), name ='All'))"
   ]
  },
  {
   "cell_type": "markdown",
   "metadata": {},
   "source": [
    "For an example, let's dissect the first cluster, Cluster 0. \n",
    "\n",
    "* The average 'purchase_price' is \\\\$29,940, nearly 50\\% heigher than the overall average. \n",
    "* The 'trade_in' and 'vehicle_financing' rated are both slightly above average.\n",
    "* The average 'customer_income' is \\\\$153,374, which is over double the overall average.\n",
    "* The 'customer_gender' is 80% male.\n",
    "* The 'customer_previous_purchase' is around the average at 28%.\n",
    "* The 'customer_distance_to_dealer' is similar to most other clusters at 13.\n",
    "* The 'vehicle_warranty_used' was below average at 18%.\n",
    "* The amount of 'subsequent_purchases' was around the average at 0.55."
   ]
  },
  {
   "cell_type": "markdown",
   "metadata": {},
   "source": [
    "With the clustering applied, we now have seven distinct segments of purchases grouped along different variables. CarMax could use these cluster assignments to provide each segment a unique marketing mix. For example, Cluster 0 could be enrolled in a post-purchase flow tailored to that cluster's demographics, such as their high average income and purchase price. As mentioned earlier, we could easily adjust the number of clusters to better fit a specific marketing or sales strategy.\n",
    "\n",
    "To employ this clustering, we could segment new purchasers into one of the seven pre-defined clusters and provide them with a rigorous post-purchase marketing flow that incorporates variables important to that segment."
   ]
  },
  {
   "cell_type": "markdown",
   "metadata": {},
   "source": [
    "## Summary and Suggestions"
   ]
  },
  {
   "cell_type": "markdown",
   "metadata": {},
   "source": [
    "In this notebook, we were able to gain a deeper understanding into CarMax's used car sales and their customers. We were able to find several factors that correlated with 'high-value' variables that could be leveraged by marketers and inventory strategists. We also built several models to predict the purchase price and purchase make and model for different demographics of consumers, as well created distinct segments of purchases that could be used for target marketing."
   ]
  },
  {
   "cell_type": "markdown",
   "metadata": {},
   "source": [
    "### Appendix"
   ]
  },
  {
   "cell_type": "markdown",
   "metadata": {},
   "source": [
    "Below are the 'coded' representations for the purchase price, customer age, and customer income used in thie project."
   ]
  },
  {
   "cell_type": "code",
   "execution_count": 57,
   "metadata": {},
   "outputs": [
    {
     "data": {
      "text/html": [
       "<div>\n",
       "<style scoped>\n",
       "    .dataframe tbody tr th:only-of-type {\n",
       "        vertical-align: middle;\n",
       "    }\n",
       "\n",
       "    .dataframe tbody tr th {\n",
       "        vertical-align: top;\n",
       "    }\n",
       "\n",
       "    .dataframe thead th {\n",
       "        text-align: right;\n",
       "    }\n",
       "</style>\n",
       "<table border=\"1\" class=\"dataframe\">\n",
       "  <thead>\n",
       "    <tr style=\"text-align: right;\">\n",
       "      <th></th>\n",
       "      <th>purchase_price</th>\n",
       "      <th>purchase_price_coded</th>\n",
       "    </tr>\n",
       "  </thead>\n",
       "  <tbody>\n",
       "    <tr>\n",
       "      <th>2</th>\n",
       "      <td>10001 - 15000</td>\n",
       "      <td>7500</td>\n",
       "    </tr>\n",
       "    <tr>\n",
       "      <th>0</th>\n",
       "      <td>15001 - 20000</td>\n",
       "      <td>12500</td>\n",
       "    </tr>\n",
       "    <tr>\n",
       "      <th>3</th>\n",
       "      <td>20001 - 25000</td>\n",
       "      <td>17500</td>\n",
       "    </tr>\n",
       "    <tr>\n",
       "      <th>1</th>\n",
       "      <td>25001 - 30000</td>\n",
       "      <td>22500</td>\n",
       "    </tr>\n",
       "    <tr>\n",
       "      <th>5</th>\n",
       "      <td>30001 - 35000</td>\n",
       "      <td>27500</td>\n",
       "    </tr>\n",
       "    <tr>\n",
       "      <th>4</th>\n",
       "      <td>35001 - 40000</td>\n",
       "      <td>32500</td>\n",
       "    </tr>\n",
       "    <tr>\n",
       "      <th>7</th>\n",
       "      <td>40001 - 45000</td>\n",
       "      <td>37500</td>\n",
       "    </tr>\n",
       "    <tr>\n",
       "      <th>8</th>\n",
       "      <td>45001 - 50000</td>\n",
       "      <td>42500</td>\n",
       "    </tr>\n",
       "    <tr>\n",
       "      <th>9</th>\n",
       "      <td>50001 - 55000</td>\n",
       "      <td>47500</td>\n",
       "    </tr>\n",
       "    <tr>\n",
       "      <th>6</th>\n",
       "      <td>5001 - 10000</td>\n",
       "      <td>52500</td>\n",
       "    </tr>\n",
       "    <tr>\n",
       "      <th>10</th>\n",
       "      <td>55001 - 60000</td>\n",
       "      <td>57500</td>\n",
       "    </tr>\n",
       "    <tr>\n",
       "      <th>11</th>\n",
       "      <td>60001 - 65000</td>\n",
       "      <td>62500</td>\n",
       "    </tr>\n",
       "    <tr>\n",
       "      <th>13</th>\n",
       "      <td>65001 - 70000</td>\n",
       "      <td>67500</td>\n",
       "    </tr>\n",
       "    <tr>\n",
       "      <th>14</th>\n",
       "      <td>70001 - 75000</td>\n",
       "      <td>72500</td>\n",
       "    </tr>\n",
       "    <tr>\n",
       "      <th>12</th>\n",
       "      <td>75001 - 80000</td>\n",
       "      <td>77500</td>\n",
       "    </tr>\n",
       "    <tr>\n",
       "      <th>18</th>\n",
       "      <td>80001 - 85000</td>\n",
       "      <td>82500</td>\n",
       "    </tr>\n",
       "    <tr>\n",
       "      <th>15</th>\n",
       "      <td>85001 - 90000</td>\n",
       "      <td>87500</td>\n",
       "    </tr>\n",
       "    <tr>\n",
       "      <th>17</th>\n",
       "      <td>90001 - 95000</td>\n",
       "      <td>92500</td>\n",
       "    </tr>\n",
       "  </tbody>\n",
       "</table>\n",
       "</div>"
      ],
      "text/plain": [
       "   purchase_price  purchase_price_coded\n",
       "2   10001 - 15000                  7500\n",
       "0   15001 - 20000                 12500\n",
       "3   20001 - 25000                 17500\n",
       "1   25001 - 30000                 22500\n",
       "5   30001 - 35000                 27500\n",
       "4   35001 - 40000                 32500\n",
       "7   40001 - 45000                 37500\n",
       "8   45001 - 50000                 42500\n",
       "9   50001 - 55000                 47500\n",
       "6    5001 - 10000                 52500\n",
       "10  55001 - 60000                 57500\n",
       "11  60001 - 65000                 62500\n",
       "13  65001 - 70000                 67500\n",
       "14  70001 - 75000                 72500\n",
       "12  75001 - 80000                 77500\n",
       "18  80001 - 85000                 82500\n",
       "15  85001 - 90000                 87500\n",
       "17  90001 - 95000                 92500"
      ]
     },
     "execution_count": 57,
     "metadata": {},
     "output_type": "execute_result"
    }
   ],
   "source": [
    "purchase_price_coded = pd.DataFrame(data.purchase_price.unique(), columns = ['purchase_price']).dropna().sort_values(by='purchase_price')\n",
    "purchase_price_coded['purchase_price_coded'] = list(sorted(list(data_sv.purchase_price.unique())))\n",
    "purchase_price_coded"
   ]
  },
  {
   "cell_type": "code",
   "execution_count": 58,
   "metadata": {},
   "outputs": [
    {
     "data": {
      "text/html": [
       "<div>\n",
       "<style scoped>\n",
       "    .dataframe tbody tr th:only-of-type {\n",
       "        vertical-align: middle;\n",
       "    }\n",
       "\n",
       "    .dataframe tbody tr th {\n",
       "        vertical-align: top;\n",
       "    }\n",
       "\n",
       "    .dataframe thead th {\n",
       "        text-align: right;\n",
       "    }\n",
       "</style>\n",
       "<table border=\"1\" class=\"dataframe\">\n",
       "  <thead>\n",
       "    <tr style=\"text-align: right;\">\n",
       "      <th></th>\n",
       "      <th>customer_age</th>\n",
       "      <th>customer_age_coded</th>\n",
       "    </tr>\n",
       "  </thead>\n",
       "  <tbody>\n",
       "    <tr>\n",
       "      <th>0</th>\n",
       "      <td>0 - 20</td>\n",
       "      <td>10</td>\n",
       "    </tr>\n",
       "    <tr>\n",
       "      <th>1</th>\n",
       "      <td>21 - 30</td>\n",
       "      <td>25</td>\n",
       "    </tr>\n",
       "    <tr>\n",
       "      <th>2</th>\n",
       "      <td>31 - 40</td>\n",
       "      <td>35</td>\n",
       "    </tr>\n",
       "    <tr>\n",
       "      <th>3</th>\n",
       "      <td>41 - 50</td>\n",
       "      <td>45</td>\n",
       "    </tr>\n",
       "    <tr>\n",
       "      <th>4</th>\n",
       "      <td>51 - 60</td>\n",
       "      <td>55</td>\n",
       "    </tr>\n",
       "    <tr>\n",
       "      <th>5</th>\n",
       "      <td>61 - 70</td>\n",
       "      <td>65</td>\n",
       "    </tr>\n",
       "    <tr>\n",
       "      <th>6</th>\n",
       "      <td>71 - 80</td>\n",
       "      <td>75</td>\n",
       "    </tr>\n",
       "    <tr>\n",
       "      <th>7</th>\n",
       "      <td>81 - 90</td>\n",
       "      <td>85</td>\n",
       "    </tr>\n",
       "    <tr>\n",
       "      <th>8</th>\n",
       "      <td>91 - 100</td>\n",
       "      <td>95</td>\n",
       "    </tr>\n",
       "    <tr>\n",
       "      <th>9</th>\n",
       "      <td>101+</td>\n",
       "      <td>101</td>\n",
       "    </tr>\n",
       "  </tbody>\n",
       "</table>\n",
       "</div>"
      ],
      "text/plain": [
       "  customer_age  customer_age_coded\n",
       "0       0 - 20                  10\n",
       "1      21 - 30                  25\n",
       "2      31 - 40                  35\n",
       "3      41 - 50                  45\n",
       "4      51 - 60                  55\n",
       "5      61 - 70                  65\n",
       "6      71 - 80                  75\n",
       "7      81 - 90                  85\n",
       "8     91 - 100                  95\n",
       "9         101+                 101"
      ]
     },
     "execution_count": 58,
     "metadata": {},
     "output_type": "execute_result"
    }
   ],
   "source": [
    "customer_age_coded = pd.DataFrame(data.customer_age.unique(), columns = ['customer_age']).dropna().reindex([5,0,3,2,1,4,8,6,10,7]).reset_index(drop=True)\n",
    "customer_age_coded['customer_age_coded'] = list(sorted(list(data_sv.customer_age.unique())))\n",
    "customer_age_coded"
   ]
  },
  {
   "cell_type": "code",
   "execution_count": 59,
   "metadata": {},
   "outputs": [
    {
     "data": {
      "text/html": [
       "<div>\n",
       "<style scoped>\n",
       "    .dataframe tbody tr th:only-of-type {\n",
       "        vertical-align: middle;\n",
       "    }\n",
       "\n",
       "    .dataframe tbody tr th {\n",
       "        vertical-align: top;\n",
       "    }\n",
       "\n",
       "    .dataframe thead th {\n",
       "        text-align: right;\n",
       "    }\n",
       "</style>\n",
       "<table border=\"1\" class=\"dataframe\">\n",
       "  <thead>\n",
       "    <tr style=\"text-align: right;\">\n",
       "      <th></th>\n",
       "      <th>customer_income</th>\n",
       "      <th>customer_income_coded</th>\n",
       "    </tr>\n",
       "  </thead>\n",
       "  <tbody>\n",
       "    <tr>\n",
       "      <th>0</th>\n",
       "      <td>0 - 20000</td>\n",
       "      <td>10000</td>\n",
       "    </tr>\n",
       "    <tr>\n",
       "      <th>1</th>\n",
       "      <td>20001 - 40000</td>\n",
       "      <td>30000</td>\n",
       "    </tr>\n",
       "    <tr>\n",
       "      <th>2</th>\n",
       "      <td>40001 - 60000</td>\n",
       "      <td>50000</td>\n",
       "    </tr>\n",
       "    <tr>\n",
       "      <th>3</th>\n",
       "      <td>60001 - 80000</td>\n",
       "      <td>70000</td>\n",
       "    </tr>\n",
       "    <tr>\n",
       "      <th>4</th>\n",
       "      <td>80001 - 100000</td>\n",
       "      <td>90000</td>\n",
       "    </tr>\n",
       "    <tr>\n",
       "      <th>5</th>\n",
       "      <td>100001 - 120000</td>\n",
       "      <td>110000</td>\n",
       "    </tr>\n",
       "    <tr>\n",
       "      <th>6</th>\n",
       "      <td>120001 - 140000</td>\n",
       "      <td>130000</td>\n",
       "    </tr>\n",
       "    <tr>\n",
       "      <th>7</th>\n",
       "      <td>140001 - 160000</td>\n",
       "      <td>150000</td>\n",
       "    </tr>\n",
       "    <tr>\n",
       "      <th>8</th>\n",
       "      <td>160001 - 180000</td>\n",
       "      <td>170000</td>\n",
       "    </tr>\n",
       "    <tr>\n",
       "      <th>9</th>\n",
       "      <td>180001 - 200000</td>\n",
       "      <td>190000</td>\n",
       "    </tr>\n",
       "    <tr>\n",
       "      <th>10</th>\n",
       "      <td>200001+</td>\n",
       "      <td>200001</td>\n",
       "    </tr>\n",
       "  </tbody>\n",
       "</table>\n",
       "</div>"
      ],
      "text/plain": [
       "    customer_income  customer_income_coded\n",
       "0         0 - 20000                  10000\n",
       "1     20001 - 40000                  30000\n",
       "2     40001 - 60000                  50000\n",
       "3     60001 - 80000                  70000\n",
       "4    80001 - 100000                  90000\n",
       "5   100001 - 120000                 110000\n",
       "6   120001 - 140000                 130000\n",
       "7   140001 - 160000                 150000\n",
       "8   160001 - 180000                 170000\n",
       "9   180001 - 200000                 190000\n",
       "10          200001+                 200001"
      ]
     },
     "execution_count": 59,
     "metadata": {},
     "output_type": "execute_result"
    }
   ],
   "source": [
    "customer_income_coded = pd.DataFrame(data.customer_income.unique(), columns = ['customer_income']).dropna().reindex([1,3,0,2,5,8,4,6,11,10,9]).reset_index(drop=True)\n",
    "customer_income_coded['customer_income_coded'] = list(sorted(list(data_sv.customer_income.unique())))\n",
    "customer_income_coded"
   ]
  }
 ],
 "metadata": {
  "kernelspec": {
   "display_name": "Python 3",
   "language": "python",
   "name": "python3"
  },
  "language_info": {
   "codemirror_mode": {
    "name": "ipython",
    "version": 3
   },
   "file_extension": ".py",
   "mimetype": "text/x-python",
   "name": "python",
   "nbconvert_exporter": "python",
   "pygments_lexer": "ipython3",
   "version": "3.9.0"
  }
 },
 "nbformat": 4,
 "nbformat_minor": 4
}
